{
 "cells": [
  {
   "cell_type": "markdown",
   "metadata": {},
   "source": [
    "## Object Oriented Programming"
   ]
  },
  {
   "cell_type": "code",
   "execution_count": 6,
   "metadata": {},
   "outputs": [],
   "source": [
    "class SoccerPlayer(object):\n",
    "    def __init__(self, name, position, back_number):\n",
    "        self.name = name\n",
    "        self.position = position\n",
    "        self.back_number = back_number\n",
    "    \n",
    "    def change_back_number(self, new_number):\n",
    "        print(\"선수의 등번호를 변경합니다 : From %d to %d\" % (self.back_number, new_number))\n",
    "        self.back_number = new_number\n",
    "    \n",
    "    def __str__(self):\n",
    "        return \"Hello, My name is %s. I play in %s in center\" % (self.name, self.position)"
   ]
  },
  {
   "cell_type": "code",
   "execution_count": 8,
   "metadata": {},
   "outputs": [
    {
     "name": "stdout",
     "output_type": "stream",
     "text": [
      "Hello, My name is Jinhyun. I play in MF in center\n",
      "현재 선수의 등번호는 :  10\n"
     ]
    }
   ],
   "source": [
    "jinhyun = SoccerPlayer(\"Jinhyun\", \"MF\", 10)\n",
    "print(jinhyun)\n",
    "print(\"현재 선수의 등번호는 : \", jinhyun.back_number)"
   ]
  },
  {
   "cell_type": "code",
   "execution_count": 9,
   "metadata": {},
   "outputs": [
    {
     "name": "stdout",
     "output_type": "stream",
     "text": [
      "선수의 등번호를 변경합니다 : From 10 to 5\n"
     ]
    }
   ],
   "source": [
    "jinhyun.change_back_number(5)"
   ]
  },
  {
   "cell_type": "markdown",
   "metadata": {},
   "source": [
    "## Lab: Notebook"
   ]
  },
  {
   "cell_type": "code",
   "execution_count": 10,
   "metadata": {},
   "outputs": [],
   "source": [
    "class Note(object):\n",
    "    def __init__(self, content = None):\n",
    "        self.content = content\n",
    "    \n",
    "    def write_content(self, content):\n",
    "        self.content = content\n",
    "    \n",
    "    def remove_all(self):\n",
    "        self.content = \"\"\n",
    "    \n",
    "    def __str__(self):\n",
    "        return self.content"
   ]
  },
  {
   "cell_type": "code",
   "execution_count": 14,
   "metadata": {},
   "outputs": [],
   "source": [
    "class NoteBook(object):\n",
    "    def __init__(self, title):\n",
    "        self.title  = title\n",
    "        self.page_number = 1\n",
    "        self.notes = {}\n",
    "    \n",
    "    def add_note(self, note, page = 0):\n",
    "        if self.page_number < 300:\n",
    "            if page == 0:\n",
    "                self.notes[self.page_number] = note\n",
    "                self.page_number += 1\n",
    "            else:\n",
    "                self.notes = {page : note}\n",
    "                self.page_number += 1\n",
    "        else: \n",
    "            print(\"Page가 모두 채워졌습니다.\")\n",
    "    \n",
    "    def remove_note(self, page_number):\n",
    "        if page_number in self.notes.keys():\n",
    "            return self.notes.pop(page_number)\n",
    "        else: \n",
    "            print(\"해당 페이지가 존재하지 않습니다\")\n",
    "            \n",
    "    def get_number_of_pages(self):\n",
    "        return len(self.notes.keys())\n"
   ]
  },
  {
   "cell_type": "code",
   "execution_count": 20,
   "metadata": {},
   "outputs": [],
   "source": [
    "import os, sys\n",
    "os.getcwd()\n",
    "os.chdir('C://Users//Annie//Desktop//PYTHON//selfstudy//10/note_notebook/')"
   ]
  },
  {
   "cell_type": "code",
   "execution_count": null,
   "metadata": {},
   "outputs": [],
   "source": [
    "# %load teamnote.py\n",
    "class Note(object):\n",
    "    def __init__(self, contents):\n",
    "        self.contents = contents\n",
    "\n",
    "    def get_number_of_lines(self):\n",
    "        return self.contents.count(\"\\n\")\n",
    "\n",
    "    def get_number_of_characters(self):\n",
    "        return len(self.contents)\n",
    "\n",
    "    def remove(self):\n",
    "        self.contents = \"삭제된 노트입니다\"\n",
    "\n",
    "    def __str__(self):\n",
    "        return self.contents\n",
    "\n",
    "\n",
    "class NoteBook(object):\n",
    "    def __init__(self, name):\n",
    "        self.name = name\n",
    "        self.pages = 0\n",
    "        self.notes = {}\n",
    "\n",
    "    def add_note(self, note, page_number=0):\n",
    "        if len(self.notes.keys()) < 300:\n",
    "            if page_number == 0:\n",
    "                if self.pages < 301:\n",
    "                    self.notes[self.pages] = note\n",
    "                    self.pages += 1\n",
    "                else:\n",
    "                    for i in range(300):\n",
    "                        if i not in list(self.notes.keys()):\n",
    "                            self.notes[self.pages] = note\n",
    "            else:\n",
    "                if page_number not in self.notes.keys():\n",
    "                    self.notes[page_number] = note\n",
    "                else:\n",
    "                    print(\"해당 페이지에는 이미 노트가 존재합니다\")\n",
    "        else:\n",
    "            print(\"더 이상 노트를 추가하지 못합니다.\")\n",
    "\n",
    "    def remove_note(self, page_number):\n",
    "        del self.notes[page_number]\n",
    "\n",
    "    def get_number_of_all_lines(self):\n",
    "        result = 0\n",
    "        for k in self.notes.keys():\n",
    "            result += self.notes[k].get_number_of_lines()\n",
    "        return result\n",
    "\n",
    "    def get_number_of_all_characters(self):\n",
    "        result = 0\n",
    "        for k in self.notes.keys():\n",
    "            result += self.notes[k].get_number_of_characters()\n",
    "        return result\n",
    "\n",
    "    def get_number_of_all_pages(self):\n",
    "        return len(self.notes.keys())\n",
    "\n",
    "    def __str__(self):\n",
    "        return self.name\n"
   ]
  },
  {
   "cell_type": "code",
   "execution_count": 21,
   "metadata": {},
   "outputs": [
    {
     "name": "stdout",
     "output_type": "stream",
     "text": [
      "세상사는데 도움이되는 명언들 힘이되는 명언 용기를 주는 명언 위로가되는 명언 좋은명언 글귀 모음 100가지 자주 보면 좋을듯 하여 선별 했습니다.\n",
      "삭제된 노트입니다\n",
      "1\n",
      "2\n",
      "4\n",
      "152\n",
      "3\n",
      "해당 페이지에는 이미 노트가 존재합니다\n",
      "해당 페이지에는 이미 노트가 존재합니다\n",
      "해당 페이지에는 이미 노트가 존재합니다\n",
      "해당 페이지에는 이미 노트가 존재합니다\n",
      "해당 페이지에는 이미 노트가 존재합니다\n",
      "300\n",
      "더 이상 노트를 추가하지 못합니다.\n",
      "더 이상 노트를 추가하지 못합니다.\n"
     ]
    }
   ],
   "source": [
    "from teamnote import Note\n",
    "from teamnote import NoteBook\n",
    "\n",
    "good_sentence = \"\"\"세상사는데 도움이되는 명언들 힘이되는 명언 용기를 주는 명언 위로가되는 명언 좋은명언 글귀 모음 100가지 자주 보면 좋을듯 하여 선별 했습니다.\"\"\"\n",
    "note_1 = Note(good_sentence)\n",
    "\n",
    "print(note_1)\n",
    "note_1.remove()\n",
    "print(note_1)\n",
    "\n",
    "\n",
    "good_sentence = \"\"\"삶이 있는 한 희망은 있다 -키케로 \"\"\"\n",
    "note_2 = Note(good_sentence)\n",
    "\n",
    "good_sentence = \"\"\"하루에 3시간을 걸으면 7년 후에 지구를 한바퀴 돌 수 있다.-사무엘존슨\"\"\"\n",
    "note_3 = Note(good_sentence)\n",
    "\n",
    "good_sentence = \"\"\"행복의 문이 하나 닫히면 다른 문이 열린다 그러나 우리는 종종 닫힌 문을 멍하니 바라보다가\n",
    "\n",
    " 우리를 향해 열린 문을 보지 못하게 된다  - 헬렌켈러\"\"\"\n",
    "note_4 = Note(good_sentence)\n",
    "\n",
    "\n",
    "wise_saying_notebook = NoteBook(\"명언노트\")\n",
    "wise_saying_notebook.add_note(note_1)\n",
    "print(wise_saying_notebook.get_number_of_all_pages())\n",
    "\n",
    "wise_saying_notebook.add_note(note_2)\n",
    "print(wise_saying_notebook.get_number_of_all_pages())\n",
    "\n",
    "wise_saying_notebook.add_note(note_3)\n",
    "wise_saying_notebook.add_note(note_4)\n",
    "print(wise_saying_notebook.get_number_of_all_pages())\n",
    "print(wise_saying_notebook.get_number_of_all_characters())\n",
    "\n",
    "\n",
    "wise_saying_notebook.remove_note(3)\n",
    "print(wise_saying_notebook.get_number_of_all_pages())\n",
    "\n",
    "\n",
    "wise_saying_notebook.add_note(note_1, 100)\n",
    "wise_saying_notebook.add_note(note_1, 100)\n",
    "\n",
    "for i in range(300):\n",
    "    wise_saying_notebook.add_note(note_1, i)\n",
    "\n",
    "print(wise_saying_notebook.get_number_of_all_pages())\n",
    "\n",
    "wise_saying_notebook.add_note(note_1)\n",
    "wise_saying_notebook.add_note(note_1)\n"
   ]
  },
  {
   "cell_type": "markdown",
   "metadata": {},
   "source": [
    "## Inheritance\n",
    "부모 클래스로부터 속성과 method를 물려받은 자식 클래스를 생성하는 것"
   ]
  },
  {
   "cell_type": "code",
   "execution_count": 32,
   "metadata": {},
   "outputs": [],
   "source": [
    "class Person(object):\n",
    "    def __init__(self, name, age, gender):\n",
    "        self.name = name\n",
    "        self.age = age\n",
    "        self.gender = gender\n",
    "    \n",
    "    def about_me(self):\n",
    "        print(\"저의 이름은\", self.name, \"이구요, 제 나이는\", self.age, \"살 입니다.\")"
   ]
  },
  {
   "cell_type": "code",
   "execution_count": 27,
   "metadata": {},
   "outputs": [],
   "source": [
    "class Employee(Person):\n",
    "    def __init__(self, name, age, gender, salary, hire_date):\n",
    "        super().__init__(name, age, gender) # 부모 클래스의 init을 그대로 사용\n",
    "        self.salary = salary\n",
    "        self.hire_date = hire_date\n",
    "    \n",
    "    def do_work(self):\n",
    "        print(\"일을 열심히 합니다.\")\n",
    "    \n",
    "    def about_me(self):\n",
    "        super().about_me() # 부모 클래스에 있는 함수 사용\n",
    "        print(\"제 급여는\", self.salary, \"원 이구요, 제 입사일은 \", self.hire_date, \"입니다.\")"
   ]
  },
  {
   "cell_type": "code",
   "execution_count": 33,
   "metadata": {},
   "outputs": [
    {
     "name": "stdout",
     "output_type": "stream",
     "text": [
      "저의 이름은 John 이구요, 제 나이는 34 살 입니다.\n"
     ]
    }
   ],
   "source": [
    "John = Person(\"John\",34,\"남자\")\n",
    "John.about_me()"
   ]
  },
  {
   "cell_type": "code",
   "execution_count": 35,
   "metadata": {},
   "outputs": [
    {
     "name": "stdout",
     "output_type": "stream",
     "text": [
      "저의 이름은  Deaho 이구요, 제 나이는  20 살 입니다.\n",
      "제 급여는 30000 원 이구요, 제 입사일은  2018/3/23 입니다.\n"
     ]
    }
   ],
   "source": [
    "Daeho = Employee(\"Deaho\", 20, \"남자\", 30000, \"2018/3/23\")\n",
    "Daeho.about_me()"
   ]
  },
  {
   "cell_type": "markdown",
   "metadata": {},
   "source": [
    "## 다형성 (Polymorphism)"
   ]
  },
  {
   "cell_type": "code",
   "execution_count": 45,
   "metadata": {},
   "outputs": [],
   "source": [
    "class Animal:\n",
    "    def __init__(self, name):\n",
    "        self.name = name\n",
    "    \n",
    "    def talk(self):\n",
    "        raise NotImplementedError(\"Subclass must implement abstract method\")\n",
    "\n",
    "class Cat(Animal):\n",
    "    def talk(self):\n",
    "        return \"Meow!\"\n",
    "\n",
    "class Dog(Animal):\n",
    "    def talk(self):\n",
    "        return \"Woof! Woof\""
   ]
  },
  {
   "cell_type": "code",
   "execution_count": 46,
   "metadata": {},
   "outputs": [
    {
     "name": "stdout",
     "output_type": "stream",
     "text": [
      "Missy : Meow!\n",
      "Mr.Mistoffelees : Meow!\n",
      "Lassie : Woof! Woof\n"
     ]
    }
   ],
   "source": [
    "animals = [Cat(\"Missy\"), Cat(\"Mr.Mistoffelees\"), Dog(\"Lassie\")]\n",
    "for animal in animals:\n",
    "    print(animal.name + \" : \" + animal.talk())"
   ]
  },
  {
   "cell_type": "markdown",
   "metadata": {},
   "source": [
    "## 가시성 (Visibility)"
   ]
  },
  {
   "cell_type": "markdown",
   "metadata": {},
   "source": [
    "Inventory에 Product items는 **직접 접근이 불가** : __으로 private 설정"
   ]
  },
  {
   "cell_type": "code",
   "execution_count": 53,
   "metadata": {},
   "outputs": [],
   "source": [
    "class Product:\n",
    "    pass\n",
    "\n",
    "class Inventory:\n",
    "    def __init__(self):\n",
    "        self.__items = []\n",
    "    \n",
    "    def add_new_item(self, product):\n",
    "        if type(product) == Product:\n",
    "            self.__items.append(product)\n",
    "            print(\"New Item Added\")\n",
    "        else:\n",
    "            raise ValueError(\"Invalid Item\")\n",
    "        \n",
    "    def get_number_of_items(self):\n",
    "        return len(self.__items)"
   ]
  },
  {
   "cell_type": "code",
   "execution_count": 54,
   "metadata": {},
   "outputs": [
    {
     "name": "stdout",
     "output_type": "stream",
     "text": [
      "New Item Added\n",
      "New Item Added\n"
     ]
    },
    {
     "data": {
      "text/plain": [
       "2"
      ]
     },
     "execution_count": 54,
     "metadata": {},
     "output_type": "execute_result"
    }
   ],
   "source": [
    "my_inventory = Inventory()\n",
    "my_inventory.add_new_item(Product())\n",
    "my_inventory.add_new_item(Product())\n",
    "my_inventory.get_number_of_items()"
   ]
  },
  {
   "cell_type": "code",
   "execution_count": 55,
   "metadata": {},
   "outputs": [
    {
     "ename": "AttributeError",
     "evalue": "'Inventory' object has no attribute '__items'",
     "output_type": "error",
     "traceback": [
      "\u001b[1;31m---------------------------------------------------------------------------\u001b[0m",
      "\u001b[1;31mAttributeError\u001b[0m                            Traceback (most recent call last)",
      "\u001b[1;32m<ipython-input-55-d14883466fbe>\u001b[0m in \u001b[0;36m<module>\u001b[1;34m\u001b[0m\n\u001b[1;32m----> 1\u001b[1;33m \u001b[0mprint\u001b[0m\u001b[1;33m(\u001b[0m\u001b[0mmy_inventory\u001b[0m\u001b[1;33m.\u001b[0m\u001b[0m__items\u001b[0m\u001b[1;33m)\u001b[0m\u001b[1;33m\u001b[0m\u001b[1;33m\u001b[0m\u001b[0m\n\u001b[0m",
      "\u001b[1;31mAttributeError\u001b[0m: 'Inventory' object has no attribute '__items'"
     ]
    }
   ],
   "source": [
    "print(my_inventory.__items)"
   ]
  },
  {
   "cell_type": "markdown",
   "metadata": {},
   "source": [
    "items에 접근 허용"
   ]
  },
  {
   "cell_type": "code",
   "execution_count": 61,
   "metadata": {},
   "outputs": [],
   "source": [
    "class Inventory:\n",
    "    def __init__(self):\n",
    "        self.__items = []\n",
    "    \n",
    "    @property\n",
    "    def items(self):\n",
    "        return self.__items\n",
    "    \n",
    "    def add_new_item(self, product):\n",
    "        if type(product) == Product:\n",
    "            self.__items.append(product)\n",
    "            print(\"New Item Added\")\n",
    "        else:\n",
    "            raise ValueError(\"Invalid Product\")\n",
    "    \n",
    "    def get_number_of_items(self):\n",
    "        return len(self.__items)"
   ]
  },
  {
   "cell_type": "code",
   "execution_count": 62,
   "metadata": {},
   "outputs": [
    {
     "name": "stdout",
     "output_type": "stream",
     "text": [
      "New Item Added\n",
      "New Item Added\n"
     ]
    },
    {
     "data": {
      "text/plain": [
       "2"
      ]
     },
     "execution_count": 62,
     "metadata": {},
     "output_type": "execute_result"
    }
   ],
   "source": [
    "my_inventory = Inventory()\n",
    "my_inventory.add_new_item(Product())\n",
    "my_inventory.add_new_item(Product())\n",
    "my_inventory.get_number_of_items()"
   ]
  },
  {
   "cell_type": "code",
   "execution_count": 70,
   "metadata": {},
   "outputs": [],
   "source": [
    "items = my_inventory.items # 함수로 정의했지만 @property를 썼기 때문에 변수로 사용"
   ]
  },
  {
   "cell_type": "code",
   "execution_count": 71,
   "metadata": {},
   "outputs": [],
   "source": [
    "items.append(\"123\")"
   ]
  },
  {
   "cell_type": "code",
   "execution_count": 73,
   "metadata": {},
   "outputs": [
    {
     "data": {
      "text/plain": [
       "3"
      ]
     },
     "execution_count": 73,
     "metadata": {},
     "output_type": "execute_result"
    }
   ],
   "source": [
    "my_inventory.get_number_of_items() \n",
    "# items는 my_inventory의 메모리 주소를 그대로 가져오기 때문에 items에 append해도 my_inventory도 똑같이 추가됨"
   ]
  },
  {
   "cell_type": "code",
   "execution_count": null,
   "metadata": {},
   "outputs": [],
   "source": []
  }
 ],
 "metadata": {
  "kernelspec": {
   "display_name": "Python 3",
   "language": "python",
   "name": "python3"
  },
  "language_info": {
   "codemirror_mode": {
    "name": "ipython",
    "version": 3
   },
   "file_extension": ".py",
   "mimetype": "text/x-python",
   "name": "python",
   "nbconvert_exporter": "python",
   "pygments_lexer": "ipython3",
   "version": "3.7.3"
  }
 },
 "nbformat": 4,
 "nbformat_minor": 2
}
