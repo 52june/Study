{
 "cells": [
  {
   "cell_type": "code",
   "execution_count": 9,
   "metadata": {},
   "outputs": [],
   "source": [
    "import sys,os\n",
    "sys.path.append(os.pardir)"
   ]
  },
  {
   "cell_type": "code",
   "execution_count": 21,
   "metadata": {},
   "outputs": [],
   "source": [
    "line_counter = 0\n",
    "data_header = []\n",
    "customer_list = []\n",
    "\n",
    "with open(\"C:\\\\Users\\\\Annie\\\\Desktop\\\\PYTHON\\\\selfstudy\\\\codes\\\\Chapter 13\\\\csv\\\\customers.csv\") as f:\n",
    "    while 1:\n",
    "        data = f.readline()\n",
    "        if not data: break\n",
    "        if line_counter == 0:\n",
    "            data_header = data.split(\",\")\n",
    "        else:\n",
    "            customer_list.append(data.split(\",\"))\n",
    "        line_counter += 1"
   ]
  },
  {
   "cell_type": "code",
   "execution_count": 25,
   "metadata": {},
   "outputs": [
    {
     "name": "stdout",
     "output_type": "stream",
     "text": [
      "Header:\n",
      "  ['customerNumber', 'customerName', 'contactLastName', 'contactFirstName', 'phone', 'addressLine1', 'addressLine2', 'city', 'state', 'postalCode', 'country', 'salesRepEmployeeNumber', 'creditLimit\\n']\n"
     ]
    }
   ],
   "source": [
    "print(\"Header:\\n \", data_header)"
   ]
  },
  {
   "cell_type": "code",
   "execution_count": 2,
   "metadata": {},
   "outputs": [],
   "source": [
    "import os\n",
    "import csv\n",
    "\n",
    "seong_nam = []\n",
    "header = []\n",
    "rownum = 0\n",
    "file = os.path.join(os.pardir,'codes/Chapter 13/csv/korea_floating_population_data.csv' ) #os.curdir = 현재 디렉토리\n",
    "with open(file, \"r\", encoding=\"cp949\") as f:\n",
    "    csv_data = csv.reader(f)\n",
    "    for row in csv_data:\n",
    "        if rownum == 0:\n",
    "            header = row\n",
    "        location  = row[7]\n",
    "        if location.find(u\"성남시\") != -1:\n",
    "            seong_nam.append(row)\n",
    "        rownum = +1\n",
    "        \n",
    "with open(\"seong_nam_data.csv\", \"w\", encoding=\"cp949\") as w_file:\n",
    "    writer = csv.writer(w_file, delimiter = \",\", quotechar ='\"', quoting=csv.QUOTE_ALL)\n",
    "    writer.writerow(header)\n",
    "    for row in seong_nam:\n",
    "        writer.writerow(row)"
   ]
  },
  {
   "cell_type": "markdown",
   "metadata": {},
   "source": [
    "## Log 기록"
   ]
  },
  {
   "cell_type": "code",
   "execution_count": 12,
   "metadata": {},
   "outputs": [],
   "source": [
    "import logging\n",
    "logger = logging.getLogger()\n",
    "fhandler = logging.FileHandler(filename='mylog.log', mode='a')\n",
    "formatter = logging.Formatter('%(asctime)s - %(name)s - %(levelname)s - %(message)s')\n",
    "fhandler.setFormatter(formatter)\n",
    "logger.addHandler(fhandler)\n",
    "logger.setLevel(logging.DEBUG)\n",
    "\n",
    "logging.error('hello!')\n",
    "logging.debug('This is a debug message')\n",
    "logging.info('this is an info message')\n",
    "logging.warning('tbllalfhldfhd, warning.')"
   ]
  },
  {
   "cell_type": "code",
   "execution_count": null,
   "metadata": {},
   "outputs": [],
   "source": []
  }
 ],
 "metadata": {
  "kernelspec": {
   "display_name": "Python 3",
   "language": "python",
   "name": "python3"
  },
  "language_info": {
   "codemirror_mode": {
    "name": "ipython",
    "version": 3
   },
   "file_extension": ".py",
   "mimetype": "text/x-python",
   "name": "python",
   "nbconvert_exporter": "python",
   "pygments_lexer": "ipython3",
   "version": "3.7.3"
  }
 },
 "nbformat": 4,
 "nbformat_minor": 2
}
