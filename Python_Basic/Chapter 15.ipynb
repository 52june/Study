{
 "cells": [
  {
   "cell_type": "markdown",
   "metadata": {},
   "source": [
    "## XML"
   ]
  },
  {
   "cell_type": "code",
   "execution_count": 2,
   "metadata": {},
   "outputs": [],
   "source": [
    "from bs4 import BeautifulSoup"
   ]
  },
  {
   "cell_type": "markdown",
   "metadata": {},
   "source": [
    "### Code 1"
   ]
  },
  {
   "cell_type": "code",
   "execution_count": 3,
   "metadata": {},
   "outputs": [],
   "source": [
    "with open(\"../codes/Chapter 15/xml/books.xml\",\"r\") as f:\n",
    "    books_xml = f.read()"
   ]
  },
  {
   "cell_type": "code",
   "execution_count": 4,
   "metadata": {},
   "outputs": [],
   "source": [
    "soup = BeautifulSoup(books_xml, \"lxml\")"
   ]
  },
  {
   "cell_type": "code",
   "execution_count": 7,
   "metadata": {},
   "outputs": [
    {
     "data": {
      "text/plain": [
       "[<author>Carson</author>, <author>Sungchul</author>]"
      ]
     },
     "execution_count": 7,
     "metadata": {},
     "output_type": "execute_result"
    }
   ],
   "source": [
    "soup.find_all(\"author\") # author가 들어가있는 모든 정보를 찾아준다"
   ]
  },
  {
   "cell_type": "code",
   "execution_count": 9,
   "metadata": {},
   "outputs": [
    {
     "name": "stdout",
     "output_type": "stream",
     "text": [
      "<book>\n",
      "<author>Carson</author>\n",
      "<price format=\"dollar\">31.95</price>\n",
      "<pubdate>05/01/2001</pubdate>\n",
      "</book>\n",
      "\n",
      "Carson\n",
      "31.95\n",
      "05/01/2001\n",
      "\n",
      "<book>\n",
      "<author>Sungchul</author>\n",
      "<price format=\"dollar\">29.95</price>\n",
      "<pubdate>05/01/2012</pubdate>\n",
      "</book>\n",
      "\n",
      "Sungchul\n",
      "29.95\n",
      "05/01/2012\n",
      "\n"
     ]
    }
   ],
   "source": [
    "for info in soup.find_all(\"book\"):\n",
    "    print(info)\n",
    "    print(info.get_text())"
   ]
  },
  {
   "cell_type": "markdown",
   "metadata": {},
   "source": [
    "### Code 2"
   ]
  },
  {
   "cell_type": "code",
   "execution_count": 10,
   "metadata": {},
   "outputs": [],
   "source": [
    "with open(\"../codes/Chapter 15/xml/US08621662-20140107.XML\") as f:\n",
    "    xml = f.read()"
   ]
  },
  {
   "cell_type": "code",
   "execution_count": 11,
   "metadata": {},
   "outputs": [],
   "source": [
    "soup = BeautifulSoup(xml, \"lxml\")"
   ]
  },
  {
   "cell_type": "code",
   "execution_count": 12,
   "metadata": {},
   "outputs": [
    {
     "name": "stdout",
     "output_type": "stream",
     "text": [
      "Adjustable shoulder device for hard upper torso suit\n"
     ]
    }
   ],
   "source": [
    "invention_title_tag = soup.find(\"invention-title\") # 맨 처음에 나오는 하나만 찾기\n",
    "print(invention_title_tag.get_text())"
   ]
  },
  {
   "cell_type": "code",
   "execution_count": 34,
   "metadata": {},
   "outputs": [
    {
     "name": "stdout",
     "output_type": "stream",
     "text": [
      "<Publication Reference>\n",
      "country: US \n",
      "doc-number: 08621662\n",
      "kind: B2\n",
      "date: 20140107\n"
     ]
    }
   ],
   "source": [
    "pub_ref_tag = soup.find(\"publication-reference\")\n",
    "p_doc_id_tag = pub_ref_tag.find(\"document-id\")\n",
    "p_country = p_doc_id_tag.find(\"country\").get_text()\n",
    "p_doc_number = p_doc_id_tag.find(\"doc-number\").get_text()\n",
    "p_kind = p_doc_id_tag.find(\"kind\").get_text()\n",
    "p_date = p_doc_id_tag.find(\"date\").get_text()\n",
    "\n",
    "print(\"\"\"<Publication Reference>\n",
    "country: %s \n",
    "doc-number: %s\n",
    "kind: %s\n",
    "date: %s\"\"\" % (p_country, p_doc_number, p_kind, p_date))"
   ]
  },
  {
   "cell_type": "markdown",
   "metadata": {},
   "source": [
    "### Lab"
   ]
  },
  {
   "cell_type": "code",
   "execution_count": 69,
   "metadata": {},
   "outputs": [],
   "source": [
    "import urllib.request\n",
    "import re\n",
    "from bs4 import BeautifulSoup\n",
    "url = \"http://s3.ap-northeast-2.amazonaws.com/teamlab-gachon/ipa110106.XML\"\n",
    "html = urllib.request.urlopen(url)\n",
    "html_contents = str(html.read())\n",
    "patent_xml = html_contents.split(\"<?xml version=\\\"1.0\\\" encoding=\\\"UTF-8\\\"?>\")\n",
    "del patent_xml[0]"
   ]
  },
  {
   "cell_type": "code",
   "execution_count": 87,
   "metadata": {},
   "outputs": [
    {
     "name": "stdout",
     "output_type": "stream",
     "text": [
      "<us-bibliographic-data-application country=\"US\" lang=\"EN\">\\n<publication-reference>\\n<document-id>\\n<country>US</country>\\n<doc-number>20110000002</doc-number>\\n<kind>A1</kind>\\n<date>20110106</date>\\n</document-id>\\n</publication-reference>\\n<application-reference appl-type=\"utility\">\\n<document-id>\\n<country>US</country>\\n<doc-number>12460559</doc-number>\\n<date>20090721</date>\\n</document-id>\\n</application-reference>\\n<us-application-series-code>12</us-application-series-code>\\n<classifications-ipcr>\\n<classification-ipcr>\\n<ipc-version-indicator><date>20060101</date></ipc-version-indicator>\\n<classification-level>A</classification-level>\\n<section>B</section>\\n<class>63</class>\\n<subclass>C</subclass>\\n<main-group>11</main-group>\\n<subgroup>04</subgroup>\\n<symbol-position>F</symbol-position>\\n<classification-value>I</classification-value>\\n<action-date><date>20110106</date></action-date>\\n<generating-office><country>US</country></generating-office>\\n<classification-status>B</classification-status>\\n<classification-data-source>H</classification-data-source>\\n</classification-ipcr>\\n</classifications-ipcr>\\n<classification-national>\\n<country>US</country>\\n<main-classification>  2  215</main-classification>\\n</classification-national>\\n<invention-title id=\"d0e43\">Wetsuit made with a low-absorbent, good wicking and quick drying fabric</invention-title>\\n<us-related-documents>\\n<us-provisional-application>\\n<document-id>\\n<country>US</country>\\n<doc-number>61222448</doc-number>\\n<kind>00</kind>\\n<date>20090701</date>\\n</document-id>\\n</us-provisional-application>\\n</us-related-documents>\\n<parties>\\n<applicants>\\n<applicant app-type=\"applicant-inventor\" designation=\"us-only\" sequence=\"00\">\\n<addressbook>\\n<last-name>Shiue</last-name>\\n<first-name>Min-Chen</first-name>\\n<address>\\n<city>I-Lan Hsien</city>\\n<country>TW</country>\\n</address>\\n</addressbook>\\n<nationality>\\n<country>omitted</country>\\n</nationality>\\n<residence>\\n<country>TW</country>\\n</residence>\\n</applicant>\\n</applicants>\\n<correspondence-address>\\n<addressbook>\\n<name>LEONARD TACHNER, A PROFESSIONAL LAW;CORPORATION</name>\\n<address>\\n<address-1>17961 SKY PARK CIRCLE, SUITE 38-E</address-1>\\n<city>IRVINE</city>\\n<state>CA</state>\\n<postcode>92614</postcode>\\n<country>US</country>\\n</address>\\n</addressbook>\\n</correspondence-address>\\n</parties>\\n<assignees>\\n<assignee>\\n<orgname>SHEI CHUNG HSIN IND. CO. LTD.</orgname>\\n<role>03</role>\\n</assignee>\\n</assignees>\\n</us-bibliographic-data-application>\n",
      "<us-bibliographic-data-application country=\"US\" lang=\"EN\">\\n<publication-reference>\\n<document-id>\\n<country>US</country>\\n<doc-number>20110000003</doc-number>\\n<kind>A1</kind>\\n<date>20110106</date>\\n</document-id>\\n</publication-reference>\\n<application-reference appl-type=\"utility\">\\n<document-id>\\n<country>US</country>\\n<doc-number>12460569</doc-number>\\n<date>20090721</date>\\n</document-id>\\n</application-reference>\\n<us-application-series-code>12</us-application-series-code>\\n<classifications-ipcr>\\n<classification-ipcr>\\n<ipc-version-indicator><date>20060101</date></ipc-version-indicator>\\n<classification-level>A</classification-level>\\n<section>B</section>\\n<class>63</class>\\n<subclass>C</subclass>\\n<main-group>11</main-group>\\n<subgroup>04</subgroup>\\n<symbol-position>F</symbol-position>\\n<classification-value>I</classification-value>\\n<action-date><date>20110106</date></action-date>\\n<generating-office><country>US</country></generating-office>\\n<classification-status>B</classification-status>\\n<classification-data-source>H</classification-data-source>\\n</classification-ipcr>\\n<classification-ipcr>\\n<ipc-version-indicator><date>20060101</date></ipc-version-indicator>\\n<classification-level>A</classification-level>\\n<section>B</section>\\n<class>32</class>\\n<subclass>B</subclass>\\n<main-group>5</main-group>\\n<subgroup>02</subgroup>\\n<symbol-position>L</symbol-position>\\n<classification-value>I</classification-value>\\n<action-date><date>20110106</date></action-date>\\n<generating-office><country>US</country></generating-office>\\n<classification-status>B</classification-status>\\n<classification-data-source>H</classification-data-source>\\n</classification-ipcr>\\n<classification-ipcr>\\n<ipc-version-indicator><date>20060101</date></ipc-version-indicator>\\n<classification-level>A</classification-level>\\n<section>B</section>\\n<class>32</class>\\n<subclass>B</subclass>\\n<main-group>5</main-group>\\n<subgroup>18</subgroup>\\n<symbol-position>L</symbol-position>\\n<classification-value>I</classification-value>\\n<action-date><date>20110106</date></action-date>\\n<generating-office><country>US</country></generating-office>\\n<classification-status>B</classification-status>\\n<classification-data-source>H</classification-data-source>\\n</classification-ipcr>\\n<classification-ipcr>\\n<ipc-version-indicator><date>20060101</date></ipc-version-indicator>\\n<classification-level>A</classification-level>\\n<section>D</section>\\n<class>04</class>\\n<subclass>B</subclass>\\n<main-group>1</main-group>\\n<subgroup>22</subgroup>\\n<symbol-position>L</symbol-position>\\n<classification-value>I</classification-value>\\n<action-date><date>20110106</date></action-date>\\n<generating-office><country>US</country></generating-office>\\n<classification-status>B</classification-status>\\n<classification-data-source>H</classification-data-source>\\n</classification-ipcr>\\n</classifications-ipcr>\\n<classification-national>\\n<country>US</country>\\n<main-classification>  2  215</main-classification>\\n<further-classification>442304</further-classification>\\n<further-classification>442315</further-classification>\\n<further-classification> 66170</further-classification>\\n</classification-national>\\n<invention-title id=\"d0e43\">Wetsuit made with a non-absorbent and quick drying fabric</invention-title>\\n<us-related-documents>\\n<us-provisional-application>\\n<document-id>\\n<country>US</country>\\n<doc-number>61222112</doc-number>\\n<kind>00</kind>\\n<date>20090701</date>\\n</document-id>\\n</us-provisional-application>\\n</us-related-documents>\\n<parties>\\n<applicants>\\n<applicant app-type=\"applicant-inventor\" designation=\"us-only\" sequence=\"00\">\\n<addressbook>\\n<last-name>Shiue</last-name>\\n<first-name>Min-Chen</first-name>\\n<address>\\n<city>I-Lan Hsien</city>\\n<country>TW</country>\\n</address>\\n</addressbook>\\n<nationality>\\n<country>omitted</country>\\n</nationality>\\n<residence>\\n<country>TW</country>\\n</residence>\\n</applicant>\\n</applicants>\\n<correspondence-address>\\n<addressbook>\\n<name>LEONARD TACHNER, A PROFESSIONAL LAW;CORPORATION</name>\\n<address>\\n<address-1>17961 SKY PARK CIRCLE, SUITE 38-E</address-1>\\n<city>IRVINE</city>\\n<state>CA</state>\\n<postcode>92614</postcode>\\n<country>US</country>\\n</address>\\n</addressbook>\\n</correspondence-address>\\n</parties>\\n<assignees>\\n<assignee>\\n<orgname>SHEI CHUNG HSIN IND, CO. LTD.</orgname>\\n<role>03</role>\\n</assignee>\\n</assignees>\\n</us-bibliographic-data-application>\n",
      "<us-bibliographic-data-application country=\"US\" lang=\"EN\">\\n<publication-reference>\\n<document-id>\\n<country>US</country>\\n<doc-number>20110000004</doc-number>\\n<kind>A1</kind>\\n<date>20110106</date>\\n</document-id>\\n</publication-reference>\\n<application-reference appl-type=\"utility\">\\n<document-id>\\n<country>US</country>\\n<doc-number>12459737</doc-number>\\n<date>20090706</date>\\n</document-id>\\n</application-reference>\\n<us-application-series-code>12</us-application-series-code>\\n<classifications-ipcr>\\n<classification-ipcr>\\n<ipc-version-indicator><date>20060101</date></ipc-version-indicator>\\n<classification-level>A</classification-level>\\n<section>A</section>\\n<class>41</class>\\n<subclass>D</subclass>\\n<main-group>13</main-group>\\n<subgroup>08</subgroup>\\n<symbol-position>F</symbol-position>\\n<classification-value>I</classification-value>\\n<action-date><date>20110106</date></action-date>\\n<generating-office><country>US</country></generating-office>\\n<classification-status>B</classification-status>\\n<classification-data-source>H</classification-data-source>\\n</classification-ipcr>\\n</classifications-ipcr>\\n<classification-national>\\n<country>US</country>\\n<main-classification>  2 21</main-classification>\\n</classification-national>\\n<invention-title id=\"d0e43\">Fingerezz</invention-title>\\n<parties>\\n<applicants>\\n<applicant app-type=\"applicant-inventor\" designation=\"us-only\" sequence=\"00\">\\n<addressbook>\\n<last-name>Lydon</last-name>\\n<first-name>Beverly B.</first-name>\\n<address>\\n<city>Lake Havasu City</city>\\n<state>AZ</state>\\n<country>US</country>\\n</address>\\n</addressbook>\\n<nationality>\\n<country>omitted</country>\\n</nationality>\\n<residence>\\n<country>US</country>\\n</residence>\\n</applicant>\\n</applicants>\\n<correspondence-address>\\n<addressbook>\\n<name>Beverly B Lydon</name>\\n<address>\\n<address-1>3297 Silver Saddle Dr.</address-1>\\n<city>Lake Havasucity</city>\\n<state>AZ</state>\\n<postcode>86406</postcode>\\n<country>US</country>\\n</address>\\n</addressbook>\\n</correspondence-address>\\n</parties>\\n</us-bibliographic-data-application>\n"
     ]
    },
    {
     "name": "stdout",
     "output_type": "stream",
     "text": [
      "<us-bibliographic-data-application country=\"US\" lang=\"EN\">\\n<publication-reference>\\n<document-id>\\n<country>US</country>\\n<doc-number>20110000005</doc-number>\\n<kind>A1</kind>\\n<date>20110106</date>\\n</document-id>\\n</publication-reference>\\n<application-reference appl-type=\"utility\">\\n<document-id>\\n<country>US</country>\\n<doc-number>12498332</doc-number>\\n<date>20090706</date>\\n</document-id>\\n</application-reference>\\n<us-application-series-code>12</us-application-series-code>\\n<classifications-ipcr>\\n<classification-ipcr>\\n<ipc-version-indicator><date>20060101</date></ipc-version-indicator>\\n<classification-level>A</classification-level>\\n<section>A</section>\\n<class>41</class>\\n<subclass>D</subclass>\\n<main-group>1</main-group>\\n<subgroup>06</subgroup>\\n<symbol-position>F</symbol-position>\\n<classification-value>I</classification-value>\\n<action-date><date>20110106</date></action-date>\\n<generating-office><country>US</country></generating-office>\\n<classification-status>B</classification-status>\\n<classification-data-source>H</classification-data-source>\\n</classification-ipcr>\\n<classification-ipcr>\\n<ipc-version-indicator><date>20060101</date></ipc-version-indicator>\\n<classification-level>A</classification-level>\\n<section>A</section>\\n<class>41</class>\\n<subclass>D</subclass>\\n<main-group>27</main-group>\\n<subgroup>00</subgroup>\\n<symbol-position>L</symbol-position>\\n<classification-value>I</classification-value>\\n<action-date><date>20110106</date></action-date>\\n<generating-office><country>US</country></generating-office>\\n<classification-status>B</classification-status>\\n<classification-data-source>H</classification-data-source>\\n</classification-ipcr>\\n</classifications-ipcr>\\n<classification-national>\\n<country>US</country>\\n<main-classification>  2227</main-classification>\\n<further-classification>  22431</further-classification>\\n</classification-national>\\n<invention-title id=\"d0e43\">POSTURE IMPROVING GARMENT</invention-title>\\n<parties>\\n<applicants>\\n<applicant app-type=\"applicant-inventor\" designation=\"us-only\" sequence=\"00\">\\n<addressbook>\\n<last-name>BROWN</last-name>\\n<first-name>Timothy W.</first-name>\\n<address>\\n<city>Newport Beach</city>\\n<state>CA</state>\\n<country>US</country>\\n</address>\\n</addressbook>\\n<nationality>\\n<country>omitted</country>\\n</nationality>\\n<residence>\\n<country>US</country>\\n</residence>\\n</applicant>\\n</applicants>\\n<correspondence-address>\\n<addressbook>\\n<name>MORGAN, LEWIS &amp; BOCKIUS, LLP. (PA)</name>\\n<address>\\n<address-1>2 PALO ALTO SQUARE, 3000 EL CAMINO REAL, SUITE 700</address-1>\\n<city>PALO ALTO</city>\\n<state>CA</state>\\n<postcode>94306</postcode>\\n<country>US</country>\\n</address>\\n</addressbook>\\n</correspondence-address>\\n</parties>\\n<assignees>\\n<assignee>\\n<addressbook>\\n<orgname>DR. BROWN DESIGNS, LLC</orgname>\\n<role>02</role>\\n<address>\\n<city>Newport Beach</city>\\n<state>CA</state>\\n<country>US</country>\\n</address>\\n</addressbook>\\n</assignee>\\n</assignees>\\n</us-bibliographic-data-application>\n",
      "<us-bibliographic-data-application country=\"US\" lang=\"EN\">\\n<publication-reference>\\n<document-id>\\n<country>US</country>\\n<doc-number>20110000006</doc-number>\\n<kind>A1</kind>\\n<date>20110106</date>\\n</document-id>\\n</publication-reference>\\n<application-reference appl-type=\"utility\">\\n<document-id>\\n<country>US</country>\\n<doc-number>12497914</doc-number>\\n<date>20090706</date>\\n</document-id>\\n</application-reference>\\n<us-application-series-code>12</us-application-series-code>\\n<classifications-ipcr>\\n<classification-ipcr>\\n<ipc-version-indicator><date>20060101</date></ipc-version-indicator>\\n<classification-level>A</classification-level>\\n<section>A</section>\\n<class>43</class>\\n<subclass>B</subclass>\\n<main-group>17</main-group>\\n<subgroup>00</subgroup>\\n<symbol-position>F</symbol-position>\\n<classification-value>I</classification-value>\\n<action-date><date>20110106</date></action-date>\\n<generating-office><country>US</country></generating-office>\\n<classification-status>B</classification-status>\\n<classification-data-source>H</classification-data-source>\\n</classification-ipcr>\\n<classification-ipcr>\\n<ipc-version-indicator><date>20060101</date></ipc-version-indicator>\\n<classification-level>A</classification-level>\\n<section>A</section>\\n<class>41</class>\\n<subclass>D</subclass>\\n<main-group>27</main-group>\\n<subgroup>20</subgroup>\\n<symbol-position>L</symbol-position>\\n<classification-value>I</classification-value>\\n<action-date><date>20110106</date></action-date>\\n<generating-office><country>US</country></generating-office>\\n<classification-status>B</classification-status>\\n<classification-data-source>H</classification-data-source>\\n</classification-ipcr>\\n</classifications-ipcr>\\n<classification-national>\\n<country>US</country>\\n<main-classification>  2240</main-classification>\\n<further-classification>  2250</further-classification>\\n</classification-national>\\n<invention-title id=\"d0e43\">HEEL PROTECTORS</invention-title>\\n<parties>\\n<applicants>\\n<applicant app-type=\"applicant-inventor\" designation=\"us-only\" sequence=\"00\">\\n<addressbook>\\n<last-name>Fehring</last-name>\\n<first-name>Thomas K.</first-name>\\n<address>\\n<city>Charlotte</city>\\n<state>NC</state>\\n<country>US</country>\\n</address>\\n</addressbook>\\n<nationality>\\n<country>omitted</country>\\n</nationality>\\n<residence>\\n<country>US</country>\\n</residence>\\n</applicant>\\n</applicants>\\n<correspondence-address>\\n<addressbook>\\n<name>BLAKELY SOKOLOFF TAYLOR &amp; ZAFMAN LLP</name>\\n<address>\\n<address-1>1279 OAKMEAD PARKWAY</address-1>\\n<city>SUNNYVALE</city>\\n<state>CA</state>\\n<postcode>94085-4040</postcode>\\n<country>US</country>\\n</address>\\n</addressbook>\\n</correspondence-address>\\n</parties>\\n</us-bibliographic-data-application>\n"
     ]
    }
   ],
   "source": [
    "for patent in patent_xml:\n",
    "    soup = BeautifulSoup(patent, \"lxml\")\n",
    "    item.append(soup.find(\"invention-title\").get_text())\n",
    "    basic = soup.find(\"us-bibliographic-data-application\")\n",
    "    print(basic)"
   ]
  },
  {
   "cell_type": "code",
   "execution_count": 76,
   "metadata": {},
   "outputs": [
    {
     "data": {
      "text/plain": [
       "['Wetsuit made with a low-absorbent, good wicking and quick drying fabric',\n",
       " 'Wetsuit made with a non-absorbent and quick drying fabric',\n",
       " 'Fingerezz',\n",
       " 'POSTURE IMPROVING GARMENT',\n",
       " 'HEEL PROTECTORS']"
      ]
     },
     "execution_count": 76,
     "metadata": {},
     "output_type": "execute_result"
    }
   ],
   "source": [
    "item"
   ]
  },
  {
   "cell_type": "markdown",
   "metadata": {},
   "source": [
    "## JSON"
   ]
  },
  {
   "cell_type": "code",
   "execution_count": 88,
   "metadata": {},
   "outputs": [],
   "source": [
    "import json"
   ]
  },
  {
   "cell_type": "code",
   "execution_count": 89,
   "metadata": {},
   "outputs": [],
   "source": [
    "with open(\"../codes/Chapter 15/json/json_example.json\", \"r\") as f:\n",
    "    contents = f.read()\n",
    "    json_data = json.loads(contents)"
   ]
  },
  {
   "cell_type": "code",
   "execution_count": 92,
   "metadata": {},
   "outputs": [
    {
     "data": {
      "text/plain": [
       "{'employees': [{'firstName': 'John', 'lastName': 'Doe'},\n",
       "  {'firstName': 'Anna', 'lastName': 'Smith'},\n",
       "  {'firstName': 'Peter', 'lastName': 'Jones'}]}"
      ]
     },
     "execution_count": 92,
     "metadata": {},
     "output_type": "execute_result"
    }
   ],
   "source": [
    "json_data"
   ]
  },
  {
   "cell_type": "code",
   "execution_count": 95,
   "metadata": {},
   "outputs": [
    {
     "data": {
      "text/plain": [
       "[{'firstName': 'John', 'lastName': 'Doe'},\n",
       " {'firstName': 'Anna', 'lastName': 'Smith'},\n",
       " {'firstName': 'Peter', 'lastName': 'Jones'}]"
      ]
     },
     "execution_count": 95,
     "metadata": {},
     "output_type": "execute_result"
    }
   ],
   "source": [
    "json_data[\"employees\"]"
   ]
  },
  {
   "cell_type": "code",
   "execution_count": 96,
   "metadata": {},
   "outputs": [],
   "source": [
    "dict_data = {\"Name\":\"Zara\", \"Age\":7, \"Class\":\"First\"}\n",
    "with open(\"../codes/Chapter 15/json/data.json\", \"w\") as f:\n",
    "    json.dump(dict_data, f)"
   ]
  },
  {
   "cell_type": "code",
   "execution_count": null,
   "metadata": {},
   "outputs": [],
   "source": []
  }
 ],
 "metadata": {
  "kernelspec": {
   "display_name": "Python 3",
   "language": "python",
   "name": "python3"
  },
  "language_info": {
   "codemirror_mode": {
    "name": "ipython",
    "version": 3
   },
   "file_extension": ".py",
   "mimetype": "text/x-python",
   "name": "python",
   "nbconvert_exporter": "python",
   "pygments_lexer": "ipython3",
   "version": "3.7.3"
  }
 },
 "nbformat": 4,
 "nbformat_minor": 2
}
