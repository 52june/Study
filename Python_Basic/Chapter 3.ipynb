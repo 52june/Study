{
 "cells": [
  {
   "cell_type": "markdown",
   "metadata": {},
   "source": [
    "## Console In & Out"
   ]
  },
  {
   "cell_type": "code",
   "execution_count": 1,
   "metadata": {},
   "outputs": [
    {
     "name": "stdout",
     "output_type": "stream",
     "text": [
      "Enter your name\n",
      "hj\n",
      "Hi hj\n"
     ]
    }
   ],
   "source": [
    "# %load 3\\console_test.py\n",
    "print(\"Enter your name\")\n",
    "somebody = input()\n",
    "print(\"Hi\", somebody)\n"
   ]
  },
  {
   "cell_type": "code",
   "execution_count": 2,
   "metadata": {},
   "outputs": [
    {
     "name": "stdout",
     "output_type": "stream",
     "text": [
      "Enter your name\n",
      "hj\n",
      "Hi hj\n"
     ]
    }
   ],
   "source": [
    "%run 3\\console_test.py"
   ]
  },
  {
   "cell_type": "code",
   "execution_count": 3,
   "metadata": {},
   "outputs": [
    {
     "name": "stdout",
     "output_type": "stream",
     "text": [
      "Enter your name\n",
      "hj\n",
      "HI hj\n"
     ]
    }
   ],
   "source": [
    "print(\"Enter your name\")\n",
    "somebody = input()\n",
    "print(\"HI\", somebody)"
   ]
  },
  {
   "cell_type": "code",
   "execution_count": 4,
   "metadata": {},
   "outputs": [
    {
     "name": "stdout",
     "output_type": "stream",
     "text": [
      "2 Hi\n"
     ]
    }
   ],
   "source": [
    "print(2, \"Hi\")"
   ]
  },
  {
   "cell_type": "code",
   "execution_count": null,
   "metadata": {},
   "outputs": [],
   "source": [
    "# %load 3\\temperature.py\n",
    "temperature = float(input(\"온도를 입력하세요 :\"))\n",
    "print(temperature)\n",
    "print(type(temperature))\n"
   ]
  },
  {
   "cell_type": "code",
   "execution_count": 6,
   "metadata": {},
   "outputs": [
    {
     "name": "stdout",
     "output_type": "stream",
     "text": [
      "온도를 입력하세요 :130\n",
      "130.0 <class 'float'>\n"
     ]
    }
   ],
   "source": [
    "temperature = float(input(\"온도를 입력하세요 :\"))\n",
    "print(temperature, type(temperature))"
   ]
  },
  {
   "cell_type": "markdown",
   "metadata": {},
   "source": [
    "## Lab: 화씨 변환기"
   ]
  },
  {
   "cell_type": "code",
   "execution_count": 12,
   "metadata": {
    "scrolled": true
   },
   "outputs": [
    {
     "name": "stdout",
     "output_type": "stream",
     "text": [
      "본 프로그램은 섭씨를 화씨로 변환해주는 프로그램입니다\n",
      "변환하고 싶은 섭씨 온도를 입력해 주세요:\n",
      "32.2\n",
      "섭씨온도 : 32.2\n",
      "화씨온도 : 89.96\n"
     ]
    }
   ],
   "source": [
    "print(\"본 프로그램은 섭씨를 화씨로 변환해주는 프로그램입니다\")\n",
    "print(\"변환하고 싶은 섭씨 온도를 입력해 주세요:\")\n",
    "c_temp = float(input())\n",
    "print(\"섭씨온도 :\",c_temp)\n",
    "f_temp = round( ((9/5) * c_temp) + 32, 3)\n",
    "print(\"화씨온도 :\", f_temp)"
   ]
  },
  {
   "cell_type": "code",
   "execution_count": 16,
   "metadata": {},
   "outputs": [
    {
     "name": "stdout",
     "output_type": "stream",
     "text": [
      "본 프로그램은 섭씨를 화씨로 변환해주는 프로그램입니다\n",
      "변환하고 싶은 섭씨 온도를 입력해 주세요:\n",
      "32.2\n",
      "섭씨온도 : 32.2\n",
      "화씨온도 : 89.96\n"
     ]
    }
   ],
   "source": [
    "%run 3\\fahrenheit.py"
   ]
  },
  {
   "cell_type": "markdown",
   "metadata": {},
   "source": [
    "## Pring Formatting\n",
    "- %-format\n",
    "- str.format( )"
   ]
  },
  {
   "cell_type": "code",
   "execution_count": 23,
   "metadata": {},
   "outputs": [
    {
     "name": "stdout",
     "output_type": "stream",
     "text": [
      "1 2 3\n",
      "1 2 3\n"
     ]
    }
   ],
   "source": [
    "print(1,2,3)\n",
    "print(\"%d %d %d\" % (1,2,3)) # 같은 표현"
   ]
  },
  {
   "cell_type": "code",
   "execution_count": 25,
   "metadata": {},
   "outputs": [
    {
     "name": "stdout",
     "output_type": "stream",
     "text": [
      "a b c\n",
      "a b c\n"
     ]
    }
   ],
   "source": [
    "print(\"a\" + \" \" + \"b\" + \" \" + \"c\" ) # +으로 연결하면 띄어쓰기가 없다\n",
    "print(\"{} {} {}\".format(\"a\",\"b\",\"c\"))"
   ]
  },
  {
   "cell_type": "markdown",
   "metadata": {},
   "source": [
    "### %-format \n",
    "%datatype % (variable)"
   ]
  },
  {
   "cell_type": "code",
   "execution_count": 27,
   "metadata": {},
   "outputs": [
    {
     "name": "stdout",
     "output_type": "stream",
     "text": [
      "one two\n"
     ]
    }
   ],
   "source": [
    "print(\"%s %s\" % (\"one\", \"two\")) # %s : string"
   ]
  },
  {
   "cell_type": "code",
   "execution_count": 28,
   "metadata": {},
   "outputs": [
    {
     "name": "stdout",
     "output_type": "stream",
     "text": [
      "1 2\n"
     ]
    }
   ],
   "source": [
    "print(\"%d %d\" % (1,2))"
   ]
  },
  {
   "cell_type": "code",
   "execution_count": 29,
   "metadata": {},
   "outputs": [
    {
     "name": "stdout",
     "output_type": "stream",
     "text": [
      "I eat 3 apples.\n"
     ]
    }
   ],
   "source": [
    "print(\"I eat %d apples.\" % 3)"
   ]
  },
  {
   "cell_type": "code",
   "execution_count": 30,
   "metadata": {},
   "outputs": [
    {
     "name": "stdout",
     "output_type": "stream",
     "text": [
      "I eat five apples\n"
     ]
    }
   ],
   "source": [
    "print(\"I eat %s apples\" % \"five\")"
   ]
  },
  {
   "cell_type": "code",
   "execution_count": 33,
   "metadata": {},
   "outputs": [
    {
     "name": "stdout",
     "output_type": "stream",
     "text": [
      "I ate 3 apples. I was sick for five days.\n"
     ]
    }
   ],
   "source": [
    "number = 3; day = \"five\"\n",
    "print(\"I ate %d apples. I was sick for %s days.\" % (number, day)) # 변수로도 지정이 가능하다"
   ]
  },
  {
   "cell_type": "code",
   "execution_count": 35,
   "metadata": {},
   "outputs": [
    {
     "name": "stdout",
     "output_type": "stream",
     "text": [
      "Product: Apple, Price per unit: 5.243000\n"
     ]
    }
   ],
   "source": [
    "print(\"Product: %s, Price per unit: %f\" % (\"Apple\", 5.243))"
   ]
  },
  {
   "cell_type": "code",
   "execution_count": 37,
   "metadata": {},
   "outputs": [
    {
     "name": "stdout",
     "output_type": "stream",
     "text": [
      "Art:   453, Price per unit:    59.06\n"
     ]
    }
   ],
   "source": [
    "print(\"Art: %5d, Price per unit: %8.2f\" % (453, 59.058)) # datatype 앞의 숫자는 자릿수, . 뒤의 숫자는 소수점 아래 자릿수"
   ]
  },
  {
   "cell_type": "markdown",
   "metadata": {},
   "source": [
    "### str.format( )\n",
    "\"~{datatype}~\".format(argument)"
   ]
  },
  {
   "cell_type": "code",
   "execution_count": 39,
   "metadata": {},
   "outputs": [
    {
     "name": "stdout",
     "output_type": "stream",
     "text": [
      "I'am 25 years old.\n"
     ]
    }
   ],
   "source": [
    "age = 25; name = \"Heejun Oh\"\n",
    "print(\"I'am {0} years old.\".format(age))"
   ]
  },
  {
   "cell_type": "code",
   "execution_count": 40,
   "metadata": {},
   "outputs": [
    {
     "name": "stdout",
     "output_type": "stream",
     "text": [
      "My name is Heejun Oh and 25 years old.\n"
     ]
    }
   ],
   "source": [
    "print(\"My name is {0} and {1} years old.\".format(name, age))"
   ]
  },
  {
   "cell_type": "code",
   "execution_count": 44,
   "metadata": {},
   "outputs": [
    {
     "name": "stdout",
     "output_type": "stream",
     "text": [
      "Product: Apple, Price per unit: 5.243\n"
     ]
    }
   ],
   "source": [
    "print(\"Product: {0}, Price per unit: {1:.3f}\" .format(\"Apple\", 5.243))"
   ]
  },
  {
   "cell_type": "code",
   "execution_count": 45,
   "metadata": {},
   "outputs": [
    {
     "name": "stdout",
     "output_type": "stream",
     "text": [
      "Art:   453, Price per unit:    59.06\n"
     ]
    }
   ],
   "source": [
    "print(\"Art: {0:5d}, Price per unit: {1:8.2f}\" .format(453, 59.058))"
   ]
  },
  {
   "cell_type": "markdown",
   "metadata": {},
   "source": [
    "### padding: 여유 공간을 지정하여 글자배열 + 소수점 자릿수를 맞추기"
   ]
  },
  {
   "cell_type": "code",
   "execution_count": 49,
   "metadata": {},
   "outputs": [
    {
     "name": "stdout",
     "output_type": "stream",
     "text": [
      "Product:      Apple, Price per unit:      5.234\n"
     ]
    }
   ],
   "source": [
    "print(\"Product: {0:>10s}, Price per unit: {1:10.3f}\".format(\"Apple\", 5.234))"
   ]
  },
  {
   "cell_type": "markdown",
   "metadata": {},
   "source": [
    "### naming: 해당 표시할 내용을 변수로 표시하여 입력"
   ]
  },
  {
   "cell_type": "code",
   "execution_count": 50,
   "metadata": {},
   "outputs": [
    {
     "name": "stdout",
     "output_type": "stream",
     "text": [
      "Product:      Apple, Price per unit:    5.24300\n"
     ]
    }
   ],
   "source": [
    "print(\"Product: %(name)10s, Price per unit: %(price)10.5f\" % {\"name\": \"Apple\", \"price\":5.243})"
   ]
  },
  {
   "cell_type": "code",
   "execution_count": 51,
   "metadata": {},
   "outputs": [
    {
     "name": "stdout",
     "output_type": "stream",
     "text": [
      "Product:      Apple, Price per unit:    5.24300.\n"
     ]
    }
   ],
   "source": [
    "print(\"Product: {name: >10s}, Price per unit: {price: 10.5f}.\" .format(name = \"Apple\", price = 5.243))"
   ]
  },
  {
   "cell_type": "markdown",
   "metadata": {},
   "source": [
    "## List Data Type\n",
    "R에서 c()와 비슷한 - column vector 생성"
   ]
  },
  {
   "cell_type": "code",
   "execution_count": 1,
   "metadata": {},
   "outputs": [],
   "source": [
    "colors = [\"red\",\"blue\",\"green\"]"
   ]
  },
  {
   "cell_type": "code",
   "execution_count": 3,
   "metadata": {},
   "outputs": [
    {
     "name": "stdout",
     "output_type": "stream",
     "text": [
      "red\n"
     ]
    },
    {
     "data": {
      "text/plain": [
       "3"
      ]
     },
     "execution_count": 3,
     "metadata": {},
     "output_type": "execute_result"
    }
   ],
   "source": [
    "print(colors[0])\n",
    "len(colors)"
   ]
  },
  {
   "cell_type": "code",
   "execution_count": 4,
   "metadata": {},
   "outputs": [],
   "source": [
    "cities = [\"서울\",\"부산\",\"인천\",\"대구\",\"대전\",\"광주\",\"울산\",\"수원\"]"
   ]
  },
  {
   "cell_type": "code",
   "execution_count": 5,
   "metadata": {},
   "outputs": [
    {
     "data": {
      "text/plain": [
       "['서울', '부산', '인천', '대구', '대전', '광주']"
      ]
     },
     "execution_count": 5,
     "metadata": {},
     "output_type": "execute_result"
    }
   ],
   "source": [
    "cities[0:6]"
   ]
  },
  {
   "cell_type": "code",
   "execution_count": 6,
   "metadata": {},
   "outputs": [
    {
     "data": {
      "text/plain": [
       "['서울', '부산', '인천', '대구', '대전', '광주', '울산', '수원']"
      ]
     },
     "execution_count": 6,
     "metadata": {},
     "output_type": "execute_result"
    }
   ],
   "source": [
    "cities[-9:]"
   ]
  },
  {
   "cell_type": "code",
   "execution_count": 7,
   "metadata": {},
   "outputs": [
    {
     "data": {
      "text/plain": [
       "['서울', '부산', '인천', '대구', '대전', '광주', '울산', '수원']"
      ]
     },
     "execution_count": 7,
     "metadata": {},
     "output_type": "execute_result"
    }
   ],
   "source": [
    "cities[:]"
   ]
  },
  {
   "cell_type": "code",
   "execution_count": 10,
   "metadata": {},
   "outputs": [
    {
     "name": "stdout",
     "output_type": "stream",
     "text": [
      "['서울', '인천', '대전', '울산'] AND ['수원', '울산', '광주', '대전', '대구', '인천', '부산', '서울']\n"
     ]
    }
   ],
   "source": [
    "print(cities[::2], \"AND\", cities[::-1] )"
   ]
  },
  {
   "cell_type": "code",
   "execution_count": 47,
   "metadata": {},
   "outputs": [],
   "source": [
    "color = [\"red\",\"blue\",\"green\"]\n",
    "color2 = [\"orange\",\"black\",\"white\"]"
   ]
  },
  {
   "cell_type": "code",
   "execution_count": 25,
   "metadata": {},
   "outputs": [
    {
     "name": "stdout",
     "output_type": "stream",
     "text": [
      "['red', 'blue', 'green', 'orange', 'black', 'white']\n",
      "['red', 'blue', 'green', 'red', 'blue', 'green']\n"
     ]
    }
   ],
   "source": [
    "print(color + color2) # 두 리스트 합치기\n",
    "print(color*2)"
   ]
  },
  {
   "cell_type": "code",
   "execution_count": 26,
   "metadata": {},
   "outputs": [
    {
     "data": {
      "text/plain": [
       "['yellow', 'blue', 'green']"
      ]
     },
     "execution_count": 26,
     "metadata": {},
     "output_type": "execute_result"
    }
   ],
   "source": [
    "color[0] = \"yellow\"\n",
    "color"
   ]
  },
  {
   "cell_type": "code",
   "execution_count": 44,
   "metadata": {},
   "outputs": [
    {
     "name": "stdout",
     "output_type": "stream",
     "text": [
      "['blue', 'green', 'red']\n"
     ]
    }
   ],
   "source": [
    "y = sorted(color)\n",
    "print(y)"
   ]
  },
  {
   "cell_type": "code",
   "execution_count": 49,
   "metadata": {},
   "outputs": [
    {
     "name": "stdout",
     "output_type": "stream",
     "text": [
      "['red', 'blue', 'green']\n",
      "['blue', 'green']\n"
     ]
    }
   ],
   "source": [
    "ind = color.index(\"red\")\n",
    "print(color)\n",
    "del color[ind]\n",
    "print(color)"
   ]
  },
  {
   "cell_type": "code",
   "execution_count": 27,
   "metadata": {},
   "outputs": [
    {
     "data": {
      "text/plain": [
       "False"
      ]
     },
     "execution_count": 27,
     "metadata": {},
     "output_type": "execute_result"
    }
   ],
   "source": [
    "\"blue\" in color2 # dplyr의 %in% 개념"
   ]
  },
  {
   "cell_type": "code",
   "execution_count": 28,
   "metadata": {},
   "outputs": [
    {
     "name": "stdout",
     "output_type": "stream",
     "text": [
      "['yellow', 'blue', 'green', 'white']\n"
     ]
    }
   ],
   "source": [
    "color.append(\"white\")\n",
    "print(color)"
   ]
  },
  {
   "cell_type": "code",
   "execution_count": 29,
   "metadata": {},
   "outputs": [
    {
     "name": "stdout",
     "output_type": "stream",
     "text": [
      "['yellow', 'blue', 'green', 'white', 'black', 'purple']\n"
     ]
    }
   ],
   "source": [
    "color.extend([\"black\",\"purple\"])\n",
    "print(color) # color만 출력하면 column vector로 나온다"
   ]
  },
  {
   "cell_type": "code",
   "execution_count": 38,
   "metadata": {},
   "outputs": [
    {
     "name": "stdout",
     "output_type": "stream",
     "text": [
      "['orange', 'yellow', 'blue', 'green', 'white', 'black', 'purple']\n"
     ]
    }
   ],
   "source": [
    "color.insert(0, \"orange\") # 0번째 자리에 orange 추가\n",
    "print(color)"
   ]
  },
  {
   "cell_type": "code",
   "execution_count": 39,
   "metadata": {},
   "outputs": [],
   "source": [
    "color.remove(\"white\")"
   ]
  },
  {
   "cell_type": "code",
   "execution_count": 40,
   "metadata": {},
   "outputs": [],
   "source": [
    "del color[0]"
   ]
  },
  {
   "cell_type": "code",
   "execution_count": 41,
   "metadata": {},
   "outputs": [
    {
     "name": "stdout",
     "output_type": "stream",
     "text": [
      "['yellow', 'blue', 'green', 'black', 'purple']\n"
     ]
    }
   ],
   "source": [
    "print(color)"
   ]
  },
  {
   "cell_type": "markdown",
   "metadata": {},
   "source": [
    "### 패킹과 언패킹"
   ]
  },
  {
   "cell_type": "code",
   "execution_count": 42,
   "metadata": {},
   "outputs": [],
   "source": [
    "t = [1,2,3]"
   ]
  },
  {
   "cell_type": "code",
   "execution_count": 43,
   "metadata": {},
   "outputs": [],
   "source": [
    "a, b, c = t # t에 있는 값 1,2,3을 각각 변수 a,b,c에 언패킹"
   ]
  },
  {
   "cell_type": "code",
   "execution_count": 45,
   "metadata": {},
   "outputs": [
    {
     "name": "stdout",
     "output_type": "stream",
     "text": [
      "[1, 2, 3] 1 2 3\n"
     ]
    }
   ],
   "source": [
    "print(t, a,b,c)"
   ]
  },
  {
   "cell_type": "markdown",
   "metadata": {},
   "source": [
    "### 이차원 리스트"
   ]
  },
  {
   "cell_type": "code",
   "execution_count": 47,
   "metadata": {},
   "outputs": [],
   "source": [
    "kor_score = [49,79,20,100,80]\n",
    "math_score = [43,59,85,30,90]\n",
    "eng_score = [49,79,48,60,100]\n",
    "\n",
    "mid_score = [kor_score, math_score, eng_score]"
   ]
  },
  {
   "cell_type": "code",
   "execution_count": 48,
   "metadata": {},
   "outputs": [
    {
     "name": "stdout",
     "output_type": "stream",
     "text": [
      "[[49, 79, 20, 100, 80], [43, 59, 85, 30, 90], [49, 79, 48, 60, 100]]\n"
     ]
    }
   ],
   "source": [
    "print(mid_score)"
   ]
  },
  {
   "cell_type": "code",
   "execution_count": 49,
   "metadata": {},
   "outputs": [
    {
     "data": {
      "text/plain": [
       "[43, 59, 85, 30, 90]"
      ]
     },
     "execution_count": 49,
     "metadata": {},
     "output_type": "execute_result"
    }
   ],
   "source": [
    "mid_score[1]"
   ]
  },
  {
   "cell_type": "code",
   "execution_count": 50,
   "metadata": {},
   "outputs": [
    {
     "data": {
      "text/plain": [
       "20"
      ]
     },
     "execution_count": 50,
     "metadata": {},
     "output_type": "execute_result"
    }
   ],
   "source": [
    "mid_score[0][2]"
   ]
  },
  {
   "cell_type": "markdown",
   "metadata": {},
   "source": [
    "### Assignment"
   ]
  },
  {
   "cell_type": "code",
   "execution_count": null,
   "metadata": {},
   "outputs": [],
   "source": [
    "# %load Assignment\\lab_3\\exam_grader.py\n",
    "\n",
    "\n",
    "# 총 과목 수를 Console를 통해 받기\n",
    "def get_number_of_subjects():\n",
    "\n",
    "    # \"\"\"\n",
    "    # Input:\n",
    "    # \t- None\n",
    "    # Output:\n",
    "    # \t- number_of_subjects: Integer Type의 총 과목 수\n",
    "    # Examples(python shell):\n",
    "    # \t>>> import exam_grader as eg\n",
    "    # \t>>> eg.get_number_of_subjects()\n",
    "    #   과목수를 입력하세요: 10\n",
    "    #   10\n",
    "    # \"\"\"\n",
    "    #\n",
    "    # ===Modify codes below=================\n",
    "    number_of_subjects = int(input(\"과목수를 입력하세요: \"))\n",
    "    # ======================================\n",
    "    return number_of_subjects\n",
    "\n",
    "def get_average_score(total_score, number_of_subjects):\n",
    "    return total_score/number_of_subjects\n",
    "\n",
    "\n",
    "# Help Funtion - 수정하지 말 것\n",
    "def sum_of_scores(number_of_subjects):\n",
    "\n",
    "    total_score = 0\n",
    "    for i in range(number_of_subjects):\n",
    "        message = str(i + 1) + \"번째 과목의 점수를 입력하세요 : \"\n",
    "        score = int(input(message))\n",
    "        total_score = total_score + score\n",
    "    return total_score\n",
    "\n",
    "\n",
    "# Help Funtion - 수정하지 말 것\n",
    "def print_exam_grader(average_score):\n",
    "    grade = 'F'\n",
    "    if average_score >= 90.0:\n",
    "        grade = 'A'\n",
    "    elif average_score >= 80.0:\n",
    "        grade = 'B'\n",
    "    elif average_score >= 70.0:\n",
    "        grade = 'C'\n",
    "    elif average_score >= 60.0:\n",
    "        grade = 'D'\n",
    "    else:\n",
    "        grade = 'F'\n",
    "    print(\"평균 점수: \", average_score)\n",
    "    print(\"학     점: \", grade)\n",
    "\n",
    "\n",
    "def main():\n",
    "    print(\"Start of Exam Grader Program\")\n",
    "    print(\"============================\")\n",
    "\n",
    "    number_of_subjects = get_number_of_subjects()\n",
    "    total_score = sum_of_scores(number_of_subjects)\n",
    "    average_score = get_average_score(\n",
    "        total_score=total_score, number_of_subjects=number_of_subjects)\n",
    "    print_exam_grader(average_score)\n",
    "\n",
    "    print(\"===========================\")\n",
    "    print(\"End of Exame Grader Program\")\n",
    "\n",
    "if __name__ == '__main__':\n",
    "    main()\n"
   ]
  },
  {
   "cell_type": "code",
   "execution_count": null,
   "metadata": {},
   "outputs": [],
   "source": []
  }
 ],
 "metadata": {
  "kernelspec": {
   "display_name": "Python 3",
   "language": "python",
   "name": "python3"
  },
  "language_info": {
   "codemirror_mode": {
    "name": "ipython",
    "version": 3
   },
   "file_extension": ".py",
   "mimetype": "text/x-python",
   "name": "python",
   "nbconvert_exporter": "python",
   "pygments_lexer": "ipython3",
   "version": "3.7.3"
  }
 },
 "nbformat": 4,
 "nbformat_minor": 2
}
