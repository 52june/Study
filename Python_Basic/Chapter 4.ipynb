{
 "cells": [
  {
   "cell_type": "markdown",
   "metadata": {},
   "source": [
    "## if-else문"
   ]
  },
  {
   "cell_type": "code",
   "execution_count": 3,
   "metadata": {},
   "outputs": [
    {
     "name": "stdout",
     "output_type": "stream",
     "text": [
      "Tell me your age\n",
      "30\n",
      "Oh! No. You are not accepted.\n"
     ]
    }
   ],
   "source": [
    "print(\"Tell me your age\")\n",
    "myage = int(input())\n",
    "if myage < 30:\n",
    "    print(\"Welcome to the club\")\n",
    "else: \n",
    "    print(\"Oh! No. You are not accepted.\") # if와 else의 줄을 맞춰줘야 실행"
   ]
  },
  {
   "cell_type": "code",
   "execution_count": 7,
   "metadata": {},
   "outputs": [
    {
     "name": "stdout",
     "output_type": "stream",
     "text": [
      "B\n"
     ]
    }
   ],
   "source": [
    "score = 85\n",
    "if score >= 90: grade = \"A\"\n",
    "elif score >= 80: grade = \"B\"\n",
    "elif score >= 70: grade = \"C\"\n",
    "elif score >= 60: grade = \"D\"\n",
    "else: grade = \"F\"\n",
    "print(grade)"
   ]
  },
  {
   "cell_type": "markdown",
   "metadata": {},
   "source": [
    "## Lab: 무슨 학교 다니세요?"
   ]
  },
  {
   "cell_type": "code",
   "execution_count": 12,
   "metadata": {},
   "outputs": [
    {
     "name": "stdout",
     "output_type": "stream",
     "text": [
      "당신이 태어난 년도를 입력하세요\n",
      "1995\n",
      "대학생\n"
     ]
    }
   ],
   "source": [
    "print(\"당신이 태어난 년도를 입력하세요\")\n",
    "year = int(input())\n",
    "age = 2019 - year + 1\n",
    "if 20 <= age < 26: print(\"대학생\") # 인간에게 친숙한 모양으로도 가능하다\n",
    "elif age < 20: print(\"고등학생\")\n",
    "elif age < 17: print(\"중학생\")\n",
    "elif age < 14: print(\"초등학생\")\n",
    "else: print(\"학생이 아닙니다\")"
   ]
  },
  {
   "cell_type": "markdown",
   "metadata": {},
   "source": [
    "## Loop"
   ]
  },
  {
   "cell_type": "markdown",
   "metadata": {},
   "source": [
    "### for문"
   ]
  },
  {
   "cell_type": "code",
   "execution_count": 14,
   "metadata": {},
   "outputs": [
    {
     "name": "stdout",
     "output_type": "stream",
     "text": [
      "0\n",
      "1\n",
      "2\n",
      "3\n",
      "4\n"
     ]
    }
   ],
   "source": [
    "for i in range(5): # range(0,5) = range(5)\n",
    "    print(i)"
   ]
  },
  {
   "cell_type": "code",
   "execution_count": 19,
   "metadata": {},
   "outputs": [
    {
     "name": "stdout",
     "output_type": "stream",
     "text": [
      "a\n",
      "b\n",
      "c\n",
      "d\n",
      "e\n",
      "f\n",
      "g\n"
     ]
    }
   ],
   "source": [
    "for i in \"abcdefg\":\n",
    "    print(i)"
   ]
  },
  {
   "cell_type": "code",
   "execution_count": 20,
   "metadata": {},
   "outputs": [
    {
     "name": "stdout",
     "output_type": "stream",
     "text": [
      "americano\n",
      "latte\n",
      "frafuchino\n"
     ]
    }
   ],
   "source": [
    "for i in [\"americano\",\"latte\",\"frafuchino\"]:\n",
    "    print(i)"
   ]
  },
  {
   "cell_type": "code",
   "execution_count": 8,
   "metadata": {},
   "outputs": [
    {
     "name": "stdout",
     "output_type": "stream",
     "text": [
      "1\n",
      "3\n",
      "5\n",
      "7\n",
      "9\n"
     ]
    }
   ],
   "source": [
    "for i in range(1, 10, 2):\n",
    "    print(i) # 1부터 9까지 2씩 증가시키면서 반복문 수행"
   ]
  },
  {
   "cell_type": "code",
   "execution_count": 15,
   "metadata": {},
   "outputs": [
    {
     "name": "stdout",
     "output_type": "stream",
     "text": [
      "10\n",
      "9\n",
      "8\n",
      "7\n",
      "6\n",
      "5\n",
      "4\n",
      "3\n",
      "2\n"
     ]
    }
   ],
   "source": [
    "for i in range(10,1, -1):\n",
    "    print(i) # 10부터 2까지 1씩 감소시키면서 반복문 수행 (start point와 end point 지정 주의)"
   ]
  },
  {
   "cell_type": "markdown",
   "metadata": {},
   "source": [
    "### while문"
   ]
  },
  {
   "cell_type": "code",
   "execution_count": 16,
   "metadata": {},
   "outputs": [
    {
     "name": "stdout",
     "output_type": "stream",
     "text": [
      "1\n",
      "2\n",
      "3\n",
      "4\n",
      "5\n",
      "6\n",
      "7\n",
      "8\n",
      "9\n"
     ]
    }
   ],
   "source": [
    "i = 1\n",
    "while i < 10:\n",
    "    print(i)\n",
    "    i += 1"
   ]
  },
  {
   "cell_type": "code",
   "execution_count": 17,
   "metadata": {},
   "outputs": [
    {
     "name": "stdout",
     "output_type": "stream",
     "text": [
      "0\n",
      "1\n",
      "2\n",
      "3\n",
      "4\n",
      "EOP\n"
     ]
    }
   ],
   "source": [
    "for i in range(10):\n",
    "    if i == 5: break # break : 특정 조건에서 반복 종료\n",
    "    print(i)\n",
    "print(\"EOP\")"
   ]
  },
  {
   "cell_type": "code",
   "execution_count": 21,
   "metadata": {},
   "outputs": [
    {
     "name": "stdout",
     "output_type": "stream",
     "text": [
      "0\n",
      "1\n",
      "2\n",
      "3\n",
      "4\n",
      "6\n",
      "7\n",
      "8\n",
      "9\n",
      "EOP\n"
     ]
    }
   ],
   "source": [
    "for i in range(10):\n",
    "    if i == 5: continue # continue : i가 5가 되면 i를 출력하지 않음\n",
    "    print(i)\n",
    "print(\"EOP\")"
   ]
  },
  {
   "cell_type": "code",
   "execution_count": 23,
   "metadata": {},
   "outputs": [
    {
     "name": "stdout",
     "output_type": "stream",
     "text": [
      "0\n",
      "1\n",
      "2\n",
      "3\n",
      "4\n",
      "5\n",
      "6\n",
      "7\n",
      "8\n",
      "9\n",
      "EOP\n"
     ]
    }
   ],
   "source": [
    "for i in range(10):\n",
    "    print(i)\n",
    "else:\n",
    "    print(\"EOP\")"
   ]
  },
  {
   "cell_type": "code",
   "execution_count": 8,
   "metadata": {},
   "outputs": [
    {
     "name": "stdout",
     "output_type": "stream",
     "text": [
      "0\n",
      "1\n",
      "2\n",
      "3\n",
      "4\n",
      "5\n",
      "6\n",
      "7\n",
      "8\n",
      "9\n",
      "EOP\n"
     ]
    }
   ],
   "source": [
    "i = 0\n",
    "while i < 10:\n",
    "    print(i)\n",
    "    i += 1\n",
    "else:\n",
    "    print(\"EOP\")"
   ]
  },
  {
   "cell_type": "markdown",
   "metadata": {},
   "source": [
    "## Lab: 구구단 계산기"
   ]
  },
  {
   "cell_type": "code",
   "execution_count": 33,
   "metadata": {},
   "outputs": [
    {
     "name": "stdout",
     "output_type": "stream",
     "text": [
      "구구단 몇 단을 계산할까요?\n",
      "5\n",
      "구구단 5단을 계산합니다.\n",
      "5 X 1 = 5\n",
      "5 X 2 = 10\n",
      "5 X 3 = 15\n",
      "5 X 4 = 20\n",
      "5 X 5 = 25\n",
      "5 X 6 = 30\n",
      "5 X 7 = 35\n",
      "5 X 8 = 40\n",
      "5 X 9 = 45\n"
     ]
    }
   ],
   "source": [
    "print(\"구구단 몇 단을 계산할까요?\")\n",
    "dan = int(input())\n",
    "print(\"구구단\",str(dan)+\"단을 계산합니다.\")\n",
    "for i in range(1,10):\n",
    "    result = dan*i\n",
    "    print(dan,\"X\",i,\"=\",result)"
   ]
  },
  {
   "cell_type": "markdown",
   "metadata": {},
   "source": [
    "## Loop Review"
   ]
  },
  {
   "cell_type": "code",
   "execution_count": 34,
   "metadata": {},
   "outputs": [
    {
     "name": "stdout",
     "output_type": "stream",
     "text": [
      "uoy evol I\n"
     ]
    }
   ],
   "source": [
    "sentence = \"I love you\"\n",
    "reverse_sentence = \"\"\n",
    "for char in sentence:\n",
    "    reverse_sentence = char + reverse_sentence\n",
    "print(reverse_sentence)"
   ]
  },
  {
   "cell_type": "code",
   "execution_count": 35,
   "metadata": {},
   "outputs": [
    {
     "name": "stdout",
     "output_type": "stream",
     "text": [
      "1010\n"
     ]
    }
   ],
   "source": [
    "decimal = 10\n",
    "result = \"\"\n",
    "while(decimal > 0):\n",
    "    remainder = decimal % 2\n",
    "    decimal = decimal // 2\n",
    "    result = str(remainder) + result\n",
    "print(result)"
   ]
  },
  {
   "cell_type": "markdown",
   "metadata": {},
   "source": [
    "## Lab: 숫자 찾기 게임"
   ]
  },
  {
   "cell_type": "code",
   "execution_count": 13,
   "metadata": {},
   "outputs": [
    {
     "name": "stdout",
     "output_type": "stream",
     "text": [
      "숫자를 맞춰보세요 (1 ~ 100)\n",
      "30\n",
      "숫자가 너무 작습니다\n",
      "50\n",
      "숫자가 너무 작습니다\n",
      "60\n",
      "숫자가 너무 큽니다\n",
      "55\n",
      "숫자가 너무 큽니다\n",
      "52\n",
      "정답입니다. 입력한 숫자는 52 입니다\n"
     ]
    }
   ],
   "source": [
    "import random\n",
    "true = random.randint(1, 100) # 1~100 사이 정수 난수\n",
    "print(\"숫자를 맞춰보세요 (1 ~ 100)\")\n",
    "user_input = int(input())\n",
    "while user_input != true:\n",
    "    if user_input > true:\n",
    "        print(\"숫자가 너무 큽니다\")\n",
    "    else:\n",
    "        print(\"숫자가 너무 작습니다\")\n",
    "    user_input = int(input())\n",
    "else: print(\"정답입니다.\", \"입력한 숫자는\", user_input, \"입니다\")"
   ]
  },
  {
   "cell_type": "markdown",
   "metadata": {},
   "source": [
    "## Lab: 연속적인 구구단 입력"
   ]
  },
  {
   "cell_type": "code",
   "execution_count": 22,
   "metadata": {},
   "outputs": [
    {
     "name": "stdout",
     "output_type": "stream",
     "text": [
      "구구단 몇 단을 계산할까요? (1 ~ 9)\n",
      "4\n",
      "구구단 4단을 계산합니다.\n",
      "4 X 1 = 4\n",
      "4 X 2 = 8\n",
      "4 X 3 = 12\n",
      "4 X 4 = 16\n",
      "4 X 5 = 20\n",
      "4 X 6 = 24\n",
      "4 X 7 = 28\n",
      "4 X 8 = 32\n",
      "4 X 9 = 36\n",
      "구구단 몇 단을 계산할까요? (1 ~ 9)\n",
      "10\n",
      "잘못 입력하셨습니다 1부터 9 사이의 숫자를 입력해주세요\n",
      "4\n",
      "구구단 4단을 계산합니다.\n",
      "4 X 1 = 4\n",
      "4 X 2 = 8\n",
      "4 X 3 = 12\n",
      "4 X 4 = 16\n",
      "4 X 5 = 20\n",
      "4 X 6 = 24\n",
      "4 X 7 = 28\n",
      "4 X 8 = 32\n",
      "4 X 9 = 36\n",
      "구구단 몇 단을 계산할까요? (1 ~ 9)\n",
      "0\n",
      "구구단 게임을 종료합니다.\n"
     ]
    }
   ],
   "source": [
    "print(\"구구단 몇 단을 계산할까요? (1 ~ 9)\")\n",
    "dan = 1\n",
    "while (dan != 0):\n",
    "    dan = int(input())\n",
    "    if dan == 0: break\n",
    "    elif dan > 9:\n",
    "        print(\"잘못 입력하셨습니다\", \"1부터 9 사이의 숫자를 입력해주세요\")\n",
    "        continue\n",
    "    else:\n",
    "        print(\"구구단 \" + str(dan) + \"단을 계산합니다.\")\n",
    "        for i in range(1,10):\n",
    "            print(dan,\"X\",i, \"=\", dan*i)\n",
    "        print(\"구구단 몇 단을 계산할까요? (1 ~ 9)\")\n",
    "print(\"구구단 게임을 종료합니다.\")\n",
    "    "
   ]
  },
  {
   "cell_type": "markdown",
   "metadata": {},
   "source": [
    "## Debugging"
   ]
  },
  {
   "cell_type": "code",
   "execution_count": 39,
   "metadata": {},
   "outputs": [
    {
     "data": {
      "text/plain": [
       "['binary_converter.py',\n",
       " 'binary_conver_check.py',\n",
       " 'birth_year.py',\n",
       " 'debug.py',\n",
       " 'for_break.py',\n",
       " 'for_ex_1.py',\n",
       " 'for_ex_2.py',\n",
       " 'guess_number.py',\n",
       " 'gugudan.py',\n",
       " 'gugudan_loop.py',\n",
       " 'if_else_example.py',\n",
       " 'loop_else.py',\n",
       " 'midterm_score.py',\n",
       " 'reverse_sentence.py',\n",
       " 'trapezium_area.py',\n",
       " '__pycache__']"
      ]
     },
     "execution_count": 39,
     "metadata": {},
     "output_type": "execute_result"
    }
   ],
   "source": [
    "import sys,os\n",
    "os.getcwd()\n",
    "os.chdir('C:\\\\Users\\\\Annie\\\\Desktop\\\\PYTHON\\\\selfstudy\\\\4')\n",
    "os.listdir(\".\") # 현재 디렉토리에 있는 파일들을 리스트로 반환 "
   ]
  },
  {
   "cell_type": "code",
   "execution_count": null,
   "metadata": {},
   "outputs": [],
   "source": [
    "# %load trapezium_area.py\n",
    "def addtition(x,y):\n",
    "    return x+y\n",
    "\n",
    "if __name__ == \"__main__\":\n",
    "    print(addtition(10,5))\n"
   ]
  },
  {
   "cell_type": "code",
   "execution_count": 44,
   "metadata": {},
   "outputs": [],
   "source": [
    "import trapezium_area #if __name__ == \"__main__\" 안의 내용들은 import했을 때는 실행되지 않지만"
   ]
  },
  {
   "cell_type": "code",
   "execution_count": 1,
   "metadata": {},
   "outputs": [
    {
     "name": "stderr",
     "output_type": "stream",
     "text": [
      "ERROR:root:File `'trapezium_area.py'` not found.\n"
     ]
    }
   ],
   "source": [
    "%run trapezium_area.py # 파일 자체를 실행시키면 실행됨"
   ]
  },
  {
   "cell_type": "code",
   "execution_count": 4,
   "metadata": {},
   "outputs": [
    {
     "data": {
      "text/plain": [
       "'C:\\\\Users\\\\Annie\\\\Desktop\\\\PYTHON\\\\selfstudy'"
      ]
     },
     "execution_count": 4,
     "metadata": {},
     "output_type": "execute_result"
    }
   ],
   "source": [
    "import sys, os\n",
    "os.getcwd()"
   ]
  },
  {
   "cell_type": "code",
   "execution_count": 5,
   "metadata": {},
   "outputs": [],
   "source": [
    "os.chdir('C:\\\\Users\\\\Annie\\\\Desktop\\\\PYTHON\\\\selfstudy\\\\Assignment\\\\lab_4')"
   ]
  },
  {
   "cell_type": "code",
   "execution_count": 6,
   "metadata": {},
   "outputs": [
    {
     "data": {
      "text/plain": [
       "['gowithflow.py',\n",
       " 'install.bat',\n",
       " 'lab_5.pdf',\n",
       " 'READMD.md',\n",
       " 'submit.bat',\n",
       " 'test.py',\n",
       " '__pycache__']"
      ]
     },
     "execution_count": 6,
     "metadata": {},
     "output_type": "execute_result"
    }
   ],
   "source": [
    "os.listdir()"
   ]
  },
  {
   "cell_type": "code",
   "execution_count": 7,
   "metadata": {},
   "outputs": [],
   "source": [
    "import gowithflow as gwf"
   ]
  },
  {
   "cell_type": "code",
   "execution_count": 13,
   "metadata": {},
   "outputs": [
    {
     "data": {
      "text/plain": [
       "['__builtins__',\n",
       " '__cached__',\n",
       " '__doc__',\n",
       " '__file__',\n",
       " '__loader__',\n",
       " '__name__',\n",
       " '__package__',\n",
       " '__spec__',\n",
       " 'binary_converter',\n",
       " 'comparison_list_size',\n",
       " 'delete_a_list_element',\n",
       " 'discount_price',\n",
       " 'find_smallest_value',\n",
       " 'main',\n",
       " 'merge_and_sort',\n",
       " 'number_of_cases',\n",
       " 'odd_even_check',\n",
       " 'sum_of_list']"
      ]
     },
     "execution_count": 13,
     "metadata": {},
     "output_type": "execute_result"
    }
   ],
   "source": [
    "dir(gwf) # 모듈 안에 있는 함수들"
   ]
  },
  {
   "cell_type": "code",
   "execution_count": 15,
   "metadata": {},
   "outputs": [
    {
     "data": {
      "text/plain": [
       "0"
      ]
     },
     "execution_count": 15,
     "metadata": {},
     "output_type": "execute_result"
    }
   ],
   "source": [
    "a = [5, 4, 3, 0, 100, 200]\n",
    "gwf.find_smallest_value(a)"
   ]
  },
  {
   "cell_type": "code",
   "execution_count": 17,
   "metadata": {},
   "outputs": [
    {
     "data": {
      "text/plain": [
       "88000.0"
      ]
     },
     "execution_count": 17,
     "metadata": {},
     "output_type": "execute_result"
    }
   ],
   "source": [
    "gwf.discount_price(110000)"
   ]
  }
 ],
 "metadata": {
  "kernelspec": {
   "display_name": "Python 3",
   "language": "python",
   "name": "python3"
  },
  "language_info": {
   "codemirror_mode": {
    "name": "ipython",
    "version": 3
   },
   "file_extension": ".py",
   "mimetype": "text/x-python",
   "name": "python",
   "nbconvert_exporter": "python",
   "pygments_lexer": "ipython3",
   "version": "3.7.3"
  }
 },
 "nbformat": 4,
 "nbformat_minor": 2
}
