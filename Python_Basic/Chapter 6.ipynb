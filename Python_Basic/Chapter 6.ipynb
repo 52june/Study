{
 "cells": [
  {
   "cell_type": "markdown",
   "metadata": {},
   "source": [
    "## 문자열 다루기"
   ]
  },
  {
   "cell_type": "code",
   "execution_count": 2,
   "metadata": {},
   "outputs": [
    {
     "name": "stdout",
     "output_type": "stream",
     "text": [
      "a e\n"
     ]
    }
   ],
   "source": [
    "a = \"abcde\"\n",
    "print(a[0], a[4])"
   ]
  },
  {
   "cell_type": "code",
   "execution_count": 3,
   "metadata": {},
   "outputs": [
    {
     "name": "stdout",
     "output_type": "stream",
     "text": [
      "e a\n"
     ]
    }
   ],
   "source": [
    "print(a[-1], a[-5])"
   ]
  },
  {
   "cell_type": "code",
   "execution_count": 12,
   "metadata": {},
   "outputs": [],
   "source": [
    "a = \"Korea University\""
   ]
  },
  {
   "cell_type": "code",
   "execution_count": 13,
   "metadata": {},
   "outputs": [
    {
     "data": {
      "text/plain": [
       "16"
      ]
     },
     "execution_count": 13,
     "metadata": {},
     "output_type": "execute_result"
    }
   ],
   "source": [
    "len(a)"
   ]
  },
  {
   "cell_type": "code",
   "execution_count": 16,
   "metadata": {},
   "outputs": [
    {
     "name": "stdout",
     "output_type": "stream",
     "text": [
      "Korea University\n"
     ]
    }
   ],
   "source": [
    "print(a[0:5], a[6:16])"
   ]
  },
  {
   "cell_type": "code",
   "execution_count": 31,
   "metadata": {},
   "outputs": [
    {
     "name": "stdout",
     "output_type": "stream",
     "text": [
      "KOREA UNIVERSITY\n",
      "korea university\n"
     ]
    }
   ],
   "source": [
    "print(a.upper())\n",
    "print(a.lower())"
   ]
  },
  {
   "cell_type": "code",
   "execution_count": 37,
   "metadata": {},
   "outputs": [],
   "source": [
    "a = \"Korea/University\""
   ]
  },
  {
   "cell_type": "code",
   "execution_count": 39,
   "metadata": {},
   "outputs": [
    {
     "data": {
      "text/plain": [
       "['Korea', 'University']"
      ]
     },
     "execution_count": 39,
     "metadata": {},
     "output_type": "execute_result"
    }
   ],
   "source": [
    "a.split(\"/\") # 안에 구분자"
   ]
  },
  {
   "cell_type": "code",
   "execution_count": 43,
   "metadata": {},
   "outputs": [
    {
     "name": "stdout",
     "output_type": "stream",
     "text": [
      "1\n",
      "0\n"
     ]
    }
   ],
   "source": [
    "print(a.count(\"K\")) # 대소문자 구별\n",
    "print(a.count(\"k\"))"
   ]
  },
  {
   "cell_type": "code",
   "execution_count": 52,
   "metadata": {},
   "outputs": [
    {
     "data": {
      "text/plain": [
       "-1"
      ]
     },
     "execution_count": 52,
     "metadata": {},
     "output_type": "execute_result"
    }
   ],
   "source": [
    "a.upper().find(\"Korea\") # 존재하지 않으면 -1로 반환"
   ]
  },
  {
   "cell_type": "markdown",
   "metadata": {},
   "source": [
    "## Lab: Yesterday counter"
   ]
  },
  {
   "cell_type": "code",
   "execution_count": 56,
   "metadata": {},
   "outputs": [
    {
     "name": "stdout",
     "output_type": "stream",
     "text": [
      "Collecting wget\n",
      "  Downloading https://files.pythonhosted.org/packages/47/6a/62e288da7bcda82b935ff0c6cfe542970f04e29c756b0e147251b2fb251f/wget-3.2.zip\n",
      "Building wheels for collected packages: wget\n",
      "  Building wheel for wget (setup.py): started\n",
      "  Building wheel for wget (setup.py): finished with status 'done'\n",
      "  Stored in directory: C:\\Users\\Annie\\AppData\\Local\\pip\\Cache\\wheels\\40\\15\\30\\7d8f7cea2902b4db79e3fea550d7d7b85ecb27ef992b618f3f\n",
      "Successfully built wget\n",
      "Installing collected packages: wget\n",
      "Successfully installed wget-3.2\n"
     ]
    }
   ],
   "source": [
    "# wget 설치하기\n",
    "!pip install wget"
   ]
  },
  {
   "cell_type": "code",
   "execution_count": 74,
   "metadata": {},
   "outputs": [
    {
     "name": "stderr",
     "output_type": "stream",
     "text": [
      "--2019-07-21 14:30:01--  https://raw.githubusercontent.com/TeamLab/introduction_to_python_TEAMLAB_MOOC/master/code/6/yesterday.txt\n",
      "Resolving raw.githubusercontent.com... 151.101.228.133\n",
      "Connecting to raw.githubusercontent.com|151.101.228.133|:443... connected.\n",
      "WARNING: cannot verify raw.githubusercontent.com's certificate, issued by `/C=US/O=DigiCert Inc/OU=www.digicert.com/CN=DigiCert SHA2 High Assurance Server CA':\n",
      "  Unable to locally verify the issuer's authority.\n",
      "WARNING: certificate common name `www.github.com' doesn't match requested host name `raw.githubusercontent.com'.\n",
      "HTTP request sent, awaiting response... 200 OK\n",
      "Length: 638 [text/plain]\n",
      "Saving to: `yesterday.txt.3'\n",
      "\n",
      "     0K                                                       100%  143M=0s\n",
      "\n",
      "2019-07-21 14:30:01 (143 MB/s) - `yesterday.txt.3' saved [638/638]\n",
      "\n"
     ]
    }
   ],
   "source": [
    "# 데이터 불러오기\n",
    "!wget --no-check-certificate https://raw.githubusercontent.com/TeamLab/introduction_to_python_TEAMLAB_MOOC/master/code/6/yesterday.txt"
   ]
  },
  {
   "cell_type": "code",
   "execution_count": 76,
   "metadata": {},
   "outputs": [
    {
     "name": "stdout",
     "output_type": "stream",
     "text": [
      "The Number of a Word 'Yestderday' 9\n"
     ]
    }
   ],
   "source": [
    "f = open(\"yesterday.txt\", \"r\")\n",
    "yesterday_lyric = \"\"\n",
    "while 1:\n",
    "    line = f.readline()\n",
    "    if not line:\n",
    "        break\n",
    "    yesterday_lyric = yesterday_lyric + line.strip() + \"\\n\"\n",
    "f.close()\n",
    "n_of_yesterday = yesterday_lyric.upper().count(\"YESTERDAY\")\n",
    "print(\"The Number of a Word 'Yestderday'\", n_of_yesterday)"
   ]
  },
  {
   "cell_type": "code",
   "execution_count": 78,
   "metadata": {},
   "outputs": [
    {
     "name": "stdout",
     "output_type": "stream",
     "text": [
      "Yesterday, all my troubles seemed so far away\n",
      "Now it looks as though they're here to stay\n",
      "oh, I believe in yesterday\n",
      "\n",
      "Suddenly, I'm not half the man I used to be\n",
      "There's a shadow hanging over me\n",
      "Oh, yesterday came suddenly.\n",
      "\n",
      "Why she had to go?\n",
      "I don't know, she wouldn't say\n",
      "I said something wrong\n",
      "Now I long for yesterday.\n",
      "\n",
      "Yesterday love was such an easy game to play\n",
      "Now I need a place to hide away\n",
      "Oh, I believe in yesterday.\n",
      "\n",
      "Why she had to go?\n",
      "I don't know, she wouldn't say\n",
      "I said something wrong\n",
      "Now I long for yesterday.\n",
      "\n",
      "Yesterday love was such an easy game to play\n",
      "Now I need a place to hide away\n",
      "Oh, I believe in yesterday...\n",
      "\n"
     ]
    }
   ],
   "source": [
    "print(yesterday_lyric)"
   ]
  },
  {
   "cell_type": "markdown",
   "metadata": {},
   "source": [
    "## Lab: Yesterday Counter II"
   ]
  },
  {
   "cell_type": "code",
   "execution_count": 81,
   "metadata": {},
   "outputs": [],
   "source": [
    "with open(\"yesterday.txt\", \"r\") as f: # r: read (읽기 모드)\n",
    "    lyric = f.read()\n",
    "# with 함수를 같이 쓰면 close 함수를 써주지 않아도 된다"
   ]
  },
  {
   "cell_type": "code",
   "execution_count": 83,
   "metadata": {},
   "outputs": [
    {
     "name": "stdout",
     "output_type": "stream",
     "text": [
      "Yesterday, all my troubles seemed so far away\n",
      "Now it looks as though they're here to stay\n",
      "oh, I believe in yesterday\n",
      "\n",
      "Suddenly, I'm not half the man I used to be\n",
      "There's a shadow hanging over me\n",
      "Oh, yesterday came suddenly.\n",
      "\n",
      "Why she had to go?\n",
      "I don't know, she wouldn't say\n",
      "I said something wrong\n",
      "Now I long for yesterday.\n",
      "\n",
      "Yesterday love was such an easy game to play\n",
      "Now I need a place to hide away\n",
      "Oh, I believe in yesterday.\n",
      "\n",
      "Why she had to go?\n",
      "I don't know, she wouldn't say\n",
      "I said something wrong\n",
      "Now I long for yesterday.\n",
      "\n",
      "Yesterday love was such an easy game to play\n",
      "Now I need a place to hide away\n",
      "Oh, I believe in yesterday...\n",
      "\n"
     ]
    }
   ],
   "source": [
    "print(lyric)"
   ]
  },
  {
   "cell_type": "code",
   "execution_count": 85,
   "metadata": {},
   "outputs": [
    {
     "name": "stdout",
     "output_type": "stream",
     "text": [
      "The number of 'yesterday': 6\n",
      "The number of 'Yesterday': 3\n"
     ]
    }
   ],
   "source": [
    "print(\"The number of 'yesterday':\", lyric.count(\"yesterday\"))\n",
    "print(\"The number of 'Yesterday':\", lyric.count(\"Yesterday\"))"
   ]
  },
  {
   "cell_type": "markdown",
   "metadata": {},
   "source": [
    "## Assginment"
   ]
  },
  {
   "cell_type": "code",
   "execution_count": 1,
   "metadata": {},
   "outputs": [
    {
     "data": {
      "text/plain": [
       "'C:\\\\Users\\\\Annie\\\\Desktop\\\\PYTHON\\\\selfstudy'"
      ]
     },
     "execution_count": 1,
     "metadata": {},
     "output_type": "execute_result"
    }
   ],
   "source": [
    "import sys,os\n",
    "os.getcwd()"
   ]
  },
  {
   "cell_type": "code",
   "execution_count": 2,
   "metadata": {},
   "outputs": [],
   "source": [
    "os.chdir('C://Users//Annie//Desktop//PYTHON//selfstudy/Assignment/lab_6')"
   ]
  },
  {
   "cell_type": "code",
   "execution_count": 3,
   "metadata": {},
   "outputs": [],
   "source": [
    "import factorial_calculator as fc"
   ]
  },
  {
   "cell_type": "code",
   "execution_count": 4,
   "metadata": {},
   "outputs": [
    {
     "name": "stdout",
     "output_type": "stream",
     "text": [
      "Input a positive number : 10\n",
      "3628800\n",
      "Input a positive number : 6\n",
      "720\n",
      "Input a positive number : 3\n",
      "6\n",
      "Input a positive number : 2\n",
      "2\n",
      "Input a positive number : 0\n",
      "Thank you for using this program\n"
     ]
    }
   ],
   "source": [
    "fc.main()"
   ]
  },
  {
   "cell_type": "code",
   "execution_count": 19,
   "metadata": {},
   "outputs": [
    {
     "name": "stdout",
     "output_type": "stream",
     "text": [
      "Input a positive number : abc\n",
      "Input again, Please\n",
      "Input a positive number : 13\n",
      "6227020800\n",
      "Input a positive number : 5\n",
      "120\n",
      "Input a positive number : bs\n",
      "Input again, Please\n",
      "Input a positive number : ls\n",
      "Input again, Please\n",
      "Input a positive number : 0\n",
      "Thank you for using this program\n"
     ]
    }
   ],
   "source": [
    "fc.main()"
   ]
  }
 ],
 "metadata": {
  "kernelspec": {
   "display_name": "Python 3",
   "language": "python",
   "name": "python3"
  },
  "language_info": {
   "codemirror_mode": {
    "name": "ipython",
    "version": 3
   },
   "file_extension": ".py",
   "mimetype": "text/x-python",
   "name": "python",
   "nbconvert_exporter": "python",
   "pygments_lexer": "ipython3",
   "version": "3.7.3"
  }
 },
 "nbformat": 4,
 "nbformat_minor": 2
}
