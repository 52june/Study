{
 "cells": [
  {
   "cell_type": "markdown",
   "metadata": {},
   "source": [
    "## Split & Join"
   ]
  },
  {
   "cell_type": "markdown",
   "metadata": {},
   "source": [
    "### Split \n",
    "string type의 값을 나눠서 list의 형태로 반환"
   ]
  },
  {
   "cell_type": "code",
   "execution_count": 2,
   "metadata": {},
   "outputs": [
    {
     "name": "stdout",
     "output_type": "stream",
     "text": [
      "['zero', 'one', 'two', 'three', 'four']\n"
     ]
    }
   ],
   "source": [
    "items = 'zero one two three four'.split()\n",
    "print(items)"
   ]
  },
  {
   "cell_type": "code",
   "execution_count": 3,
   "metadata": {},
   "outputs": [
    {
     "data": {
      "text/plain": [
       "['python', ' query', ' javascript']"
      ]
     },
     "execution_count": 3,
     "metadata": {},
     "output_type": "execute_result"
    }
   ],
   "source": [
    "example = 'python, query, javascript'\n",
    "example.split(\",\")"
   ]
  },
  {
   "cell_type": "code",
   "execution_count": 7,
   "metadata": {},
   "outputs": [
    {
     "name": "stdout",
     "output_type": "stream",
     "text": [
      "python\n"
     ]
    }
   ],
   "source": [
    "a, b, c = example.split(\",\") # list에 있는 각 값을 a,b,c에 unpacking\n",
    "print(a)"
   ]
  },
  {
   "cell_type": "code",
   "execution_count": 9,
   "metadata": {},
   "outputs": [
    {
     "name": "stdout",
     "output_type": "stream",
     "text": [
      "cs50 gachon edu\n"
     ]
    }
   ],
   "source": [
    "example = 'cs50.gachon.edu'\n",
    "subdomain, domain, tld = example.split(\".\")\n",
    "print(subdomain, domain, tld)"
   ]
  },
  {
   "cell_type": "markdown",
   "metadata": {},
   "source": [
    "### Join\n",
    "sting list를 합쳐 하나의 string으로 반환"
   ]
  },
  {
   "cell_type": "code",
   "execution_count": 10,
   "metadata": {},
   "outputs": [],
   "source": [
    "colors = [\"red\", \"yellow\", \"green\", \"blue\"]"
   ]
  },
  {
   "cell_type": "code",
   "execution_count": 11,
   "metadata": {},
   "outputs": [
    {
     "data": {
      "text/plain": [
       "'redyellowgreenblue'"
      ]
     },
     "execution_count": 11,
     "metadata": {},
     "output_type": "execute_result"
    }
   ],
   "source": [
    "result = \"\".join(colors)\n",
    "result"
   ]
  },
  {
   "cell_type": "code",
   "execution_count": 12,
   "metadata": {},
   "outputs": [
    {
     "data": {
      "text/plain": [
       "'red yellow green blue'"
      ]
     },
     "execution_count": 12,
     "metadata": {},
     "output_type": "execute_result"
    }
   ],
   "source": [
    "\" \".join(colors)"
   ]
  },
  {
   "cell_type": "code",
   "execution_count": 13,
   "metadata": {},
   "outputs": [
    {
     "data": {
      "text/plain": [
       "'red, yellow, green, blue'"
      ]
     },
     "execution_count": 13,
     "metadata": {},
     "output_type": "execute_result"
    }
   ],
   "source": [
    "\", \".join(colors)"
   ]
  },
  {
   "cell_type": "code",
   "execution_count": 14,
   "metadata": {},
   "outputs": [
    {
     "data": {
      "text/plain": [
       "'red-yellow-green-blue'"
      ]
     },
     "execution_count": 14,
     "metadata": {},
     "output_type": "execute_result"
    }
   ],
   "source": [
    "\"-\".join(colors)"
   ]
  },
  {
   "cell_type": "markdown",
   "metadata": {},
   "source": [
    "## List Comprehension"
   ]
  },
  {
   "cell_type": "code",
   "execution_count": 16,
   "metadata": {},
   "outputs": [
    {
     "data": {
      "text/plain": [
       "[0, 1, 2, 3, 4, 5, 6, 7, 8, 9]"
      ]
     },
     "execution_count": 16,
     "metadata": {},
     "output_type": "execute_result"
    }
   ],
   "source": [
    "result = [i for i in range(10)]\n",
    "result"
   ]
  },
  {
   "cell_type": "code",
   "execution_count": 18,
   "metadata": {},
   "outputs": [
    {
     "data": {
      "text/plain": [
       "[0, 2, 4, 6, 8]"
      ]
     },
     "execution_count": 18,
     "metadata": {},
     "output_type": "execute_result"
    }
   ],
   "source": [
    "result = [i for i in range(10) if i % 2 == 0] # 짝수만\n",
    "result"
   ]
  },
  {
   "cell_type": "code",
   "execution_count": 21,
   "metadata": {},
   "outputs": [
    {
     "name": "stdout",
     "output_type": "stream",
     "text": [
      "['HW', 'Ho', 'Hr', 'Hl', 'Hd', 'eW', 'eo', 'er', 'el', 'ed', 'lW', 'lo', 'lr', 'll', 'ld', 'lW', 'lo', 'lr', 'll', 'ld', 'oW', 'oo', 'or', 'ol', 'od']\n"
     ]
    }
   ],
   "source": [
    "word_1 = \"Hello\"; word_2 = \"World\"\n",
    "result = [i+j for i in word_1 for j in word_2]\n",
    "print(result)"
   ]
  },
  {
   "cell_type": "code",
   "execution_count": 22,
   "metadata": {},
   "outputs": [],
   "source": [
    "case_1 = [\"A\",\"B\",\"C\"]; case_2 = [\"D\",\"E\",\"A\"]"
   ]
  },
  {
   "cell_type": "code",
   "execution_count": 23,
   "metadata": {},
   "outputs": [
    {
     "name": "stdout",
     "output_type": "stream",
     "text": [
      "['AD', 'AE', 'AA', 'BD', 'BE', 'BA', 'CD', 'CE', 'CA']\n"
     ]
    }
   ],
   "source": [
    "result = [i+j for i in case_1 for j in case_2]\n",
    "print(result)"
   ]
  },
  {
   "cell_type": "code",
   "execution_count": 27,
   "metadata": {},
   "outputs": [
    {
     "name": "stdout",
     "output_type": "stream",
     "text": [
      "['AD', 'AE', 'BD', 'BE', 'BA', 'CD', 'CE', 'CA']\n"
     ]
    },
    {
     "data": {
      "text/plain": [
       "['AD', 'AE', 'BA', 'BD', 'BE', 'CA', 'CD', 'CE']"
      ]
     },
     "execution_count": 27,
     "metadata": {},
     "output_type": "execute_result"
    }
   ],
   "source": [
    "result = [i+j for i in case_1 for j in case_2 if not(i==j)] # i와 j가 같다면 추가하지 않는다\n",
    "print(result)\n",
    "sorted(result)"
   ]
  },
  {
   "cell_type": "code",
   "execution_count": 44,
   "metadata": {},
   "outputs": [
    {
     "name": "stdout",
     "output_type": "stream",
     "text": [
      "[['AD', 'BD', 'CD'], ['AE', 'BE', 'CE'], ['AA', 'BA', 'CA']]\n"
     ]
    }
   ],
   "source": [
    "result = [[i+j for i in case_1] for j in case_2] # 2차원 리스트로 표현 # 바깥에 있는 j가 먼저\n",
    "print(result)"
   ]
  },
  {
   "cell_type": "code",
   "execution_count": 39,
   "metadata": {},
   "outputs": [
    {
     "name": "stdout",
     "output_type": "stream",
     "text": [
      "['AD', 'BD', 'CD', 'AE', 'BE', 'CE', 'AA', 'BA', 'CA']\n"
     ]
    }
   ],
   "source": [
    "result2 = [element for x in result for element in x] # 2차원 리스트를 다시 1차원으로 풀어주기\n",
    "print(result2)"
   ]
  },
  {
   "cell_type": "code",
   "execution_count": 40,
   "metadata": {},
   "outputs": [
    {
     "name": "stdout",
     "output_type": "stream",
     "text": [
      "['The', 'quick', 'brown', 'fox', 'jumps', 'over', 'the', 'lazy', 'dog']\n"
     ]
    }
   ],
   "source": [
    "words = 'The quick brown fox jumps over the lazy dog'.split()\n",
    "print(words)"
   ]
  },
  {
   "cell_type": "code",
   "execution_count": 42,
   "metadata": {},
   "outputs": [
    {
     "name": "stdout",
     "output_type": "stream",
     "text": [
      "[['THE', 'the', 3], ['QUICK', 'quick', 5], ['BROWN', 'brown', 5], ['FOX', 'fox', 3], ['JUMPS', 'jumps', 5], ['OVER', 'over', 4], ['THE', 'the', 3], ['LAZY', 'lazy', 4], ['DOG', 'dog', 3]]\n"
     ]
    }
   ],
   "source": [
    "stuff = [[w.upper(), w.lower(), len(w)] for w in words]\n",
    "print(stuff)"
   ]
  },
  {
   "cell_type": "markdown",
   "metadata": {},
   "source": [
    "## Enumerate & Zip"
   ]
  },
  {
   "cell_type": "markdown",
   "metadata": {},
   "source": [
    "### Enumerate \n",
    "List의 element를 추출할 때 번호를 붙여서 추출"
   ]
  },
  {
   "cell_type": "code",
   "execution_count": 45,
   "metadata": {},
   "outputs": [
    {
     "name": "stdout",
     "output_type": "stream",
     "text": [
      "0 tic\n",
      "1 tac\n",
      "2 toe\n"
     ]
    }
   ],
   "source": [
    "for idx, value in enumerate([\"tic\",\"tac\",\"toe\"]):\n",
    "    print(idx, value)"
   ]
  },
  {
   "cell_type": "code",
   "execution_count": 50,
   "metadata": {},
   "outputs": [
    {
     "data": {
      "text/plain": [
       "[(0, 'a'), (1, 'b'), (2, 'c'), (3, 'd'), (4, 'e')]"
      ]
     },
     "execution_count": 50,
     "metadata": {},
     "output_type": "execute_result"
    }
   ],
   "source": [
    "mylist= [\"a\",\"b\",\"c\",\"d\",\"e\"]\n",
    "list(enumerate(mylist)) # index와 값을 unpacking하여 list에 저장"
   ]
  },
  {
   "cell_type": "code",
   "execution_count": 61,
   "metadata": {},
   "outputs": [
    {
     "data": {
      "text/plain": [
       "{0: 'Korea',\n",
       " 1: 'University',\n",
       " 2: 'is',\n",
       " 3: 'an',\n",
       " 4: 'academic',\n",
       " 5: 'institute',\n",
       " 6: 'located',\n",
       " 7: 'in',\n",
       " 8: 'South',\n",
       " 9: 'Korea'}"
      ]
     },
     "execution_count": 61,
     "metadata": {},
     "output_type": "execute_result"
    }
   ],
   "source": [
    "words = \"Korea University is an academic institute located in South Korea\"\n",
    "{i:j for i,j in enumerate(words.split())}\n",
    "# {i:j for i,j in enumerate(set(words.split()))} ==> 중복 허용 X"
   ]
  },
  {
   "cell_type": "markdown",
   "metadata": {},
   "source": [
    "### Zip\n",
    "두 개의 list의 값을 병렬적으로 추출"
   ]
  },
  {
   "cell_type": "code",
   "execution_count": 62,
   "metadata": {},
   "outputs": [
    {
     "name": "stdout",
     "output_type": "stream",
     "text": [
      "a1 b1\n",
      "a2 b2\n",
      "a3 b3\n"
     ]
    }
   ],
   "source": [
    "alist = [\"a1\", \"a2\", \"a3\"]\n",
    "blist = [\"b1\", \"b2\", \"b3\"]\n",
    "for a, b in zip(alist, blist):\n",
    "    print(a,b)"
   ]
  },
  {
   "cell_type": "code",
   "execution_count": 77,
   "metadata": {},
   "outputs": [
    {
     "data": {
      "text/plain": [
       "[('a1', 'b1'), ('a2', 'b2'), ('a3', 'b3')]"
      ]
     },
     "execution_count": 77,
     "metadata": {},
     "output_type": "execute_result"
    }
   ],
   "source": [
    "list(zip(alist, blist))"
   ]
  },
  {
   "cell_type": "code",
   "execution_count": 71,
   "metadata": {},
   "outputs": [
    {
     "name": "stdout",
     "output_type": "stream",
     "text": [
      "(1, 10, 100) (2, 20, 200) (3, 30, 300)\n"
     ]
    },
    {
     "data": {
      "text/plain": [
       "tuple"
      ]
     },
     "execution_count": 71,
     "metadata": {},
     "output_type": "execute_result"
    }
   ],
   "source": [
    "a, b, c = zip([1, 2, 3], [10, 20, 30], [100, 200, 300]) # 각 tuple의 같은 index끼리 묶음\n",
    "print(a,b,c)\n",
    "type(a) # list를 zip하면 tuple"
   ]
  },
  {
   "cell_type": "code",
   "execution_count": 72,
   "metadata": {},
   "outputs": [
    {
     "data": {
      "text/plain": [
       "[111, 222, 333]"
      ]
     },
     "execution_count": 72,
     "metadata": {},
     "output_type": "execute_result"
    }
   ],
   "source": [
    "[sum(x) for x in zip((1,2,3), (10,20,30), (100,200,300))]"
   ]
  },
  {
   "cell_type": "code",
   "execution_count": 73,
   "metadata": {},
   "outputs": [
    {
     "name": "stdout",
     "output_type": "stream",
     "text": [
      "0 a1 b1\n",
      "1 a2 b2\n",
      "2 a3 b3\n"
     ]
    }
   ],
   "source": [
    "alist = [\"a1\", \"a2\", \"a3\"]\n",
    "blist = [\"b1\", \"b2\", \"b3\"]\n",
    "for i, (a,b) in enumerate(zip(alist, blist)):\n",
    "    print(i, a, b)"
   ]
  },
  {
   "cell_type": "markdown",
   "metadata": {},
   "source": [
    "## Assignment"
   ]
  },
  {
   "cell_type": "code",
   "execution_count": 1,
   "metadata": {},
   "outputs": [
    {
     "data": {
      "text/plain": [
       "'C:\\\\Users\\\\Annie\\\\Desktop\\\\PYTHON\\\\selfstudy'"
      ]
     },
     "execution_count": 1,
     "metadata": {},
     "output_type": "execute_result"
    }
   ],
   "source": [
    "import sys,os\n",
    "os.getcwd()"
   ]
  },
  {
   "cell_type": "code",
   "execution_count": 2,
   "metadata": {},
   "outputs": [],
   "source": [
    "os.chdir('C:\\\\Users\\\\Annie\\\\Desktop\\\\PYTHON\\\\selfstudy\\\\Assignment\\\\lab_8')"
   ]
  },
  {
   "cell_type": "code",
   "execution_count": 3,
   "metadata": {},
   "outputs": [],
   "source": [
    "import morsecode as mc"
   ]
  },
  {
   "cell_type": "code",
   "execution_count": 4,
   "metadata": {},
   "outputs": [
    {
     "name": "stdout",
     "output_type": "stream",
     "text": [
      "Morse Code Program!!\n",
      "Input your message(H - Help, 0 - Exit): I     love you\n",
      "..  .-.. --- ...- .  -.-- --- ..-\n",
      "Input your message(H - Help, 0 - Exit): p\n",
      ".--.\n",
      "Input your message(H - Help, 0 - Exit): u\n",
      "..-\n",
      "Input your message(H - Help, 0 - Exit): l\n",
      ".-..\n",
      "Input your message(H - Help, 0 - Exit): o\n",
      "---\n",
      "Input your message(H - Help, 0 - Exit): v\n",
      "...-\n",
      "Input your message(H - Help, 0 - Exit): e\n",
      ".\n",
      "Input your message(H - Help, 0 - Exit): 0\n",
      "Good Bye\n",
      "Morse Code Program Finished!!\n"
     ]
    }
   ],
   "source": [
    "mc.main()"
   ]
  },
  {
   "cell_type": "code",
   "execution_count": 10,
   "metadata": {},
   "outputs": [],
   "source": [
    "def get_morse_code_dict():\n",
    "    morse_code = {\n",
    "        \"A\": \".-\", \"N\": \"-.\", \"B\": \"-...\", \"O\": \"---\", \"C\": \"-.-.\", \"P\": \".--.\", \"D\": \"-..\", \"Q\": \"--.-\", \"E\": \".\",\n",
    "        \"R\": \".-.\", \"F\": \"..-.\", \"S\": \"...\", \"G\": \"--.\", \"T\": \"-\", \"H\": \"....\", \"U\": \"..-\", \"I\": \"..\", \"V\": \"...-\",\n",
    "        \"K\": \"-.-\", \"X\": \"-..-\", \"J\": \".---\", \"W\": \".--\", \"L\": \".-..\", \"Y\": \"-.--\", \"M\": \"--\", \"Z\": \"--..\"\n",
    "    }\n",
    "    return morse_code"
   ]
  },
  {
   "cell_type": "code",
   "execution_count": 11,
   "metadata": {},
   "outputs": [],
   "source": [
    "def get_cleaned_english_sentence(raw_english_sentence):\n",
    "    \"\"\"\n",
    "    Input:\n",
    "        - raw_english_sentence : 문자열값으로 Morse Code로 변환 가능한 영어 문장\n",
    "    Output:\n",
    "        - 입력된 영어문장에수 4개의 문장부호를 \".,!?\" 삭제하고, 양쪽끝 여백을 제거한 문자열 값 반환\n",
    "    \"\"\"\n",
    "    # ===Modify codes below=============\n",
    "    # 조건에 따라 변환되어야 할 결과를 result 변수에 할당 또는 필요에 따라 자유로운 수정\n",
    "    result = raw_english_sentence.replace(\".\",\"\").replace(\",\",\"\").replace(\"!\",\"\").replace(\"?\",\"\").strip()\n",
    "    return result\n",
    "    # =================================="
   ]
  },
  {
   "cell_type": "code",
   "execution_count": 37,
   "metadata": {},
   "outputs": [],
   "source": [
    "def encoding_character(english_character):\n",
    "    \"\"\"\n",
    "    Input:\n",
    "        - english_character : 문자열값으로 알파벳 한 글자의 입력이 보장됨\n",
    "    Output:\n",
    "        - get_morse_code_dict 함수의 반환 값으로 인해 변환된 모스부호 문자열값\n",
    "    \"\"\"\n",
    "    # ===Modify codes below=============\n",
    "    # 조건에 따라 변환되어야 할 결과를 result 변수에 할당 또는 필요에 따라 자유로운 수정\n",
    "    morse_code_dict = get_morse_code_dict()\n",
    "    result = morse_code_dict[english_character]\n",
    "    return result\n",
    "    # ==================================\n",
    "\n",
    "    \n",
    "def encoding_sentence(english_sentence):\n",
    "    \"\"\"\n",
    "    Input:\n",
    "        - english_sentence : 문자열 값으로 모스 부호로 변환이 가능한 영어문장\n",
    "    Output:\n",
    "        - 입력된 영어문장 문자열 값을 모스부호로 변환된 알파벳으로 변환한 문자열\n",
    "          단 양쪽 끝에 빈칸은 삭제한다.\n",
    "    \"\"\"\n",
    "    # ===Modify codes below=============\n",
    "    # 조건에 따라 변환되어야 할 결과를 result 변수에 할당 또는 필요에 따라 자유로운 수정\n",
    "    validated = get_cleaned_english_sentence(english_sentence).upper().split()\n",
    "    body = []\n",
    "    for w in validated:\n",
    "        mid = \"\"\n",
    "        for element in w:\n",
    "            mid = mid + \" \" + encoding_character(element)\n",
    "        body.append(mid)    \n",
    "    result = \" \".join(body).strip()\n",
    "    return result\n",
    "    # =================================="
   ]
  },
  {
   "cell_type": "code",
   "execution_count": 38,
   "metadata": {},
   "outputs": [
    {
     "data": {
      "text/plain": [
       "'..  .-.. --- ...- .  -.-- --- ..-'"
      ]
     },
     "execution_count": 38,
     "metadata": {},
     "output_type": "execute_result"
    }
   ],
   "source": [
    "english_sentence = \"I   love you.\"\n",
    "encoding_sentence(english_sentence)"
   ]
  },
  {
   "cell_type": "code",
   "execution_count": 36,
   "metadata": {},
   "outputs": [
    {
     "data": {
      "text/plain": [
       "'..  .-.. --- ...- .  -.-- --- ..-'"
      ]
     },
     "execution_count": 36,
     "metadata": {},
     "output_type": "execute_result"
    }
   ],
   "source": [
    "body = []\n",
    "for w in validated:\n",
    "    mid = \"\"\n",
    "    for element in w:\n",
    "        mid = mid + \" \" + encoding_character(element)\n",
    "    body.append(mid)\n",
    "\" \".join(body).strip()"
   ]
  },
  {
   "cell_type": "code",
   "execution_count": 24,
   "metadata": {},
   "outputs": [
    {
     "data": {
      "text/plain": [
       "[' -.-- --- ..-']"
      ]
     },
     "execution_count": 24,
     "metadata": {},
     "output_type": "execute_result"
    }
   ],
   "source": []
  },
  {
   "cell_type": "code",
   "execution_count": null,
   "metadata": {},
   "outputs": [],
   "source": []
  }
 ],
 "metadata": {
  "kernelspec": {
   "display_name": "Python 3",
   "language": "python",
   "name": "python3"
  },
  "language_info": {
   "codemirror_mode": {
    "name": "ipython",
    "version": 3
   },
   "file_extension": ".py",
   "mimetype": "text/x-python",
   "name": "python",
   "nbconvert_exporter": "python",
   "pygments_lexer": "ipython3",
   "version": "3.7.3"
  }
 },
 "nbformat": 4,
 "nbformat_minor": 2
}
